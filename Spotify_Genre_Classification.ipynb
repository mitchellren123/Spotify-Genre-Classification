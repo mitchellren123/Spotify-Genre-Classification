{
 "cells": [
  {
   "cell_type": "markdown",
   "metadata": {},
   "source": [
    "# Business & Data Understanding\n",
    "\n",
    "My goal is to build a model to help Spotify classify songs into genres - this will enable Spotify to provide song recommedations to users building genre-based playlists. I will accomplish this using song features sourced from Spotify's API:\n",
    "\n",
    "+ Genre - the genre of the track <br>\n",
    "+ Year - the release year of the recording\n",
    "+ Added - the earliest date you added the track to your collection <br>\n",
    "+ Energy - The energy of a song - the higher the value, the more energtic <br>\n",
    "+ Danceability - The higher the value, the easier it is to dance to this song <br>\n",
    "+ Loudness (dB) - The higher the value, the louder the song <br>\n",
    "+ Liveness - The higher the value, the more likely the song is a live recording <br>\n",
    "+ Valence - The higher the value, the more positive mood for the song <br>\n",
    "+ Length - The duration of the song <br>\n",
    "+ Acousticness - The higher the value the more acoustic the song is <br>\n",
    "+ Speechiness - The higher the value the more spoken word the song contains <br>\n",
    "+ Popularity - The higher the value the more popular the song is <br>\n",
    "+ Duration - The length of the song <br>\n",
    "+ Mode - Major (1) or Minor  (0)\n",
    "+ Instrumentalness - the closer the value to 1, the more instrumental\n",
    "\n",
    "This is a balanced, multi-class classification algorithm - all genre classifications have equal importance and therefore equal weight.\n",
    "\n",
    "Try GridSearchCV for hyperparameter tuning since dataset is relatively small"
   ]
  },
  {
   "cell_type": "markdown",
   "metadata": {},
   "source": [
    "# Data Preparation"
   ]
  },
  {
   "cell_type": "code",
   "execution_count": 225,
   "metadata": {},
   "outputs": [],
   "source": [
    "# Import necessary libraries\n",
    "\n",
    "import pandas as pd\n",
    "import numpy as np\n",
    "import matplotlib.pyplot as plt\n",
    "import seaborn as sns\n",
    "from sklearn.model_selection import train_test_split, GridSearchCV\n",
    "from sklearn.metrics import accuracy_score, confusion_matrix, classification_report, accuracy_score, roc_curve, auc, roc_auc_score, balanced_accuracy_score\n",
    "from sklearn.tree import DecisionTreeClassifier\n",
    "from sklearn.ensemble import BaggingClassifier, RandomForestClassifier\n",
    "from sklearn.preprocessing import OneHotEncoder\n",
    "from imblearn.over_sampling import SMOTE, ADASYN\n",
    "\n",
    "\n",
    "import warnings\n",
    "warnings.filterwarnings('ignore')\n",
    "\n",
    "class color:\n",
    "   PURPLE = '\\033[95m'\n",
    "   CYAN = '\\033[96m'\n",
    "   DARKCYAN = '\\033[36m'\n",
    "   BLUE = '\\033[94m'\n",
    "   GREEN = '\\033[92m'\n",
    "   YELLOW = '\\033[93m'\n",
    "   RED = '\\033[91m'\n",
    "   BOLD = '\\033[1m'\n",
    "   UNDERLINE = '\\033[4m'\n",
    "   END = '\\033[0m'"
   ]
  },
  {
   "cell_type": "code",
   "execution_count": 3,
   "metadata": {},
   "outputs": [],
   "source": [
    "# Read the raw data into a dataframe\n",
    "\n",
    "df = pd.read_excel('spotify_genre_final.xlsx')"
   ]
  },
  {
   "cell_type": "code",
   "execution_count": 4,
   "metadata": {},
   "outputs": [
    {
     "data": {
      "text/html": [
       "<div>\n",
       "<style scoped>\n",
       "    .dataframe tbody tr th:only-of-type {\n",
       "        vertical-align: middle;\n",
       "    }\n",
       "\n",
       "    .dataframe tbody tr th {\n",
       "        vertical-align: top;\n",
       "    }\n",
       "\n",
       "    .dataframe thead th {\n",
       "        text-align: right;\n",
       "    }\n",
       "</style>\n",
       "<table border=\"1\" class=\"dataframe\">\n",
       "  <thead>\n",
       "    <tr style=\"text-align: right;\">\n",
       "      <th></th>\n",
       "      <th>Genre</th>\n",
       "      <th>Title</th>\n",
       "      <th>Album_cover_link</th>\n",
       "      <th>Artist</th>\n",
       "      <th>duration_ms</th>\n",
       "      <th>explicit</th>\n",
       "      <th>id</th>\n",
       "      <th>popularity</th>\n",
       "      <th>release_date</th>\n",
       "      <th>release_date_precision</th>\n",
       "      <th>...</th>\n",
       "      <th>key</th>\n",
       "      <th>loudness</th>\n",
       "      <th>mode</th>\n",
       "      <th>speechiness</th>\n",
       "      <th>acousticness</th>\n",
       "      <th>instrumentalness</th>\n",
       "      <th>liveness</th>\n",
       "      <th>valence</th>\n",
       "      <th>tempo</th>\n",
       "      <th>time_signature</th>\n",
       "    </tr>\n",
       "  </thead>\n",
       "  <tbody>\n",
       "    <tr>\n",
       "      <th>0</th>\n",
       "      <td>rock</td>\n",
       "      <td>Baba O'Riley</td>\n",
       "      <td>https://i.scdn.co/image/ab67616d0000b273fe24dc...</td>\n",
       "      <td>The Who</td>\n",
       "      <td>300400</td>\n",
       "      <td>False</td>\n",
       "      <td>3qiyyUfYe7CRYLucrPmulD</td>\n",
       "      <td>75</td>\n",
       "      <td>1971-08-14</td>\n",
       "      <td>day</td>\n",
       "      <td>...</td>\n",
       "      <td>5</td>\n",
       "      <td>-8.367</td>\n",
       "      <td>1</td>\n",
       "      <td>0.0352</td>\n",
       "      <td>0.31300</td>\n",
       "      <td>0.185000</td>\n",
       "      <td>0.2870</td>\n",
       "      <td>0.150</td>\n",
       "      <td>117.292</td>\n",
       "      <td>4</td>\n",
       "    </tr>\n",
       "    <tr>\n",
       "      <th>1</th>\n",
       "      <td>rock</td>\n",
       "      <td>More Than a Feeling</td>\n",
       "      <td>https://i.scdn.co/image/ab67616d0000b27390ef97...</td>\n",
       "      <td>Boston</td>\n",
       "      <td>285133</td>\n",
       "      <td>False</td>\n",
       "      <td>1QEEqeFIZktqIpPI4jSVSF</td>\n",
       "      <td>78</td>\n",
       "      <td>1976</td>\n",
       "      <td>year</td>\n",
       "      <td>...</td>\n",
       "      <td>7</td>\n",
       "      <td>-8.039</td>\n",
       "      <td>1</td>\n",
       "      <td>0.0298</td>\n",
       "      <td>0.00088</td>\n",
       "      <td>0.002300</td>\n",
       "      <td>0.0504</td>\n",
       "      <td>0.285</td>\n",
       "      <td>108.789</td>\n",
       "      <td>4</td>\n",
       "    </tr>\n",
       "    <tr>\n",
       "      <th>2</th>\n",
       "      <td>rock</td>\n",
       "      <td>(Don't Fear) The Reaper</td>\n",
       "      <td>https://i.scdn.co/image/ab67616d0000b2733ac318...</td>\n",
       "      <td>Blue Öyster Cult</td>\n",
       "      <td>308120</td>\n",
       "      <td>False</td>\n",
       "      <td>5QTxFnGygVM4jFQiBovmRo</td>\n",
       "      <td>76</td>\n",
       "      <td>1976</td>\n",
       "      <td>year</td>\n",
       "      <td>...</td>\n",
       "      <td>9</td>\n",
       "      <td>-8.550</td>\n",
       "      <td>0</td>\n",
       "      <td>0.0733</td>\n",
       "      <td>0.00290</td>\n",
       "      <td>0.000208</td>\n",
       "      <td>0.2970</td>\n",
       "      <td>0.385</td>\n",
       "      <td>141.466</td>\n",
       "      <td>4</td>\n",
       "    </tr>\n",
       "    <tr>\n",
       "      <th>3</th>\n",
       "      <td>rock</td>\n",
       "      <td>Jump - 2015 Remaster</td>\n",
       "      <td>https://i.scdn.co/image/ab67616d0000b273b414c6...</td>\n",
       "      <td>Van Halen</td>\n",
       "      <td>241599</td>\n",
       "      <td>False</td>\n",
       "      <td>7N3PAbqfTjSEU1edb2tY8j</td>\n",
       "      <td>78</td>\n",
       "      <td>1984-01-04</td>\n",
       "      <td>day</td>\n",
       "      <td>...</td>\n",
       "      <td>0</td>\n",
       "      <td>-6.219</td>\n",
       "      <td>1</td>\n",
       "      <td>0.0317</td>\n",
       "      <td>0.17100</td>\n",
       "      <td>0.000377</td>\n",
       "      <td>0.0702</td>\n",
       "      <td>0.795</td>\n",
       "      <td>129.981</td>\n",
       "      <td>4</td>\n",
       "    </tr>\n",
       "    <tr>\n",
       "      <th>4</th>\n",
       "      <td>rock</td>\n",
       "      <td>Stairway to Heaven - Remaster</td>\n",
       "      <td>https://i.scdn.co/image/ab67616d0000b273c8a11e...</td>\n",
       "      <td>Led Zeppelin</td>\n",
       "      <td>482830</td>\n",
       "      <td>False</td>\n",
       "      <td>5CQ30WqJwcep0pYcV4AMNc</td>\n",
       "      <td>79</td>\n",
       "      <td>1971-11-08</td>\n",
       "      <td>day</td>\n",
       "      <td>...</td>\n",
       "      <td>9</td>\n",
       "      <td>-12.049</td>\n",
       "      <td>0</td>\n",
       "      <td>0.0339</td>\n",
       "      <td>0.58000</td>\n",
       "      <td>0.003200</td>\n",
       "      <td>0.1160</td>\n",
       "      <td>0.197</td>\n",
       "      <td>82.433</td>\n",
       "      <td>4</td>\n",
       "    </tr>\n",
       "  </tbody>\n",
       "</table>\n",
       "<p>5 rows × 23 columns</p>\n",
       "</div>"
      ],
      "text/plain": [
       "  Genre                          Title  \\\n",
       "0  rock                   Baba O'Riley   \n",
       "1  rock            More Than a Feeling   \n",
       "2  rock        (Don't Fear) The Reaper   \n",
       "3  rock           Jump - 2015 Remaster   \n",
       "4  rock  Stairway to Heaven - Remaster   \n",
       "\n",
       "                                    Album_cover_link            Artist  \\\n",
       "0  https://i.scdn.co/image/ab67616d0000b273fe24dc...           The Who   \n",
       "1  https://i.scdn.co/image/ab67616d0000b27390ef97...            Boston   \n",
       "2  https://i.scdn.co/image/ab67616d0000b2733ac318...  Blue Öyster Cult   \n",
       "3  https://i.scdn.co/image/ab67616d0000b273b414c6...         Van Halen   \n",
       "4  https://i.scdn.co/image/ab67616d0000b273c8a11e...      Led Zeppelin   \n",
       "\n",
       "   duration_ms  explicit                      id  popularity release_date  \\\n",
       "0       300400     False  3qiyyUfYe7CRYLucrPmulD          75   1971-08-14   \n",
       "1       285133     False  1QEEqeFIZktqIpPI4jSVSF          78         1976   \n",
       "2       308120     False  5QTxFnGygVM4jFQiBovmRo          76         1976   \n",
       "3       241599     False  7N3PAbqfTjSEU1edb2tY8j          78   1984-01-04   \n",
       "4       482830     False  5CQ30WqJwcep0pYcV4AMNc          79   1971-11-08   \n",
       "\n",
       "  release_date_precision  ...  key  loudness  mode  speechiness  acousticness  \\\n",
       "0                    day  ...    5    -8.367     1       0.0352       0.31300   \n",
       "1                   year  ...    7    -8.039     1       0.0298       0.00088   \n",
       "2                   year  ...    9    -8.550     0       0.0733       0.00290   \n",
       "3                    day  ...    0    -6.219     1       0.0317       0.17100   \n",
       "4                    day  ...    9   -12.049     0       0.0339       0.58000   \n",
       "\n",
       "   instrumentalness  liveness  valence    tempo  time_signature  \n",
       "0          0.185000    0.2870    0.150  117.292               4  \n",
       "1          0.002300    0.0504    0.285  108.789               4  \n",
       "2          0.000208    0.2970    0.385  141.466               4  \n",
       "3          0.000377    0.0702    0.795  129.981               4  \n",
       "4          0.003200    0.1160    0.197   82.433               4  \n",
       "\n",
       "[5 rows x 23 columns]"
      ]
     },
     "execution_count": 4,
     "metadata": {},
     "output_type": "execute_result"
    }
   ],
   "source": [
    "# Inspect the dataframe\n",
    "\n",
    "df.head()"
   ]
  },
  {
   "cell_type": "code",
   "execution_count": 5,
   "metadata": {},
   "outputs": [
    {
     "name": "stdout",
     "output_type": "stream",
     "text": [
      "<class 'pandas.core.frame.DataFrame'>\n",
      "RangeIndex: 6917 entries, 0 to 6916\n",
      "Data columns (total 23 columns):\n",
      " #   Column                  Non-Null Count  Dtype  \n",
      "---  ------                  --------------  -----  \n",
      " 0   Genre                   6917 non-null   object \n",
      " 1   Title                   6917 non-null   object \n",
      " 2   Album_cover_link        6917 non-null   object \n",
      " 3   Artist                  6917 non-null   object \n",
      " 4   duration_ms             6917 non-null   int64  \n",
      " 5   explicit                6917 non-null   bool   \n",
      " 6   id                      6917 non-null   object \n",
      " 7   popularity              6917 non-null   int64  \n",
      " 8   release_date            6917 non-null   object \n",
      " 9   release_date_precision  6917 non-null   object \n",
      " 10  total_tracks            6917 non-null   int64  \n",
      " 11  danceability            6917 non-null   float64\n",
      " 12  energy                  6917 non-null   float64\n",
      " 13  key                     6917 non-null   int64  \n",
      " 14  loudness                6917 non-null   float64\n",
      " 15  mode                    6917 non-null   int64  \n",
      " 16  speechiness             6917 non-null   float64\n",
      " 17  acousticness            6917 non-null   float64\n",
      " 18  instrumentalness        6917 non-null   float64\n",
      " 19  liveness                6917 non-null   float64\n",
      " 20  valence                 6917 non-null   float64\n",
      " 21  tempo                   6917 non-null   float64\n",
      " 22  time_signature          6917 non-null   int64  \n",
      "dtypes: bool(1), float64(9), int64(6), object(7)\n",
      "memory usage: 1.2+ MB\n"
     ]
    }
   ],
   "source": [
    "df.info()"
   ]
  },
  {
   "cell_type": "markdown",
   "metadata": {},
   "source": [
    "The dataset includes mostly numeric features with the exception of a few categorical features (Artist, Album_cover_link, Title, release_date, release_date_precision) For the purposes of my analysis I am going to drop those columns because it would create too many additional features if I were to One-Hot-Encode something as specific as Artist. There are also a few boolean features (explicit, mode) which I will treat as categorical.\n",
    "\n",
    "Additionally the dataset does not appear to have any null values which is a good sign."
   ]
  },
  {
   "cell_type": "code",
   "execution_count": 6,
   "metadata": {},
   "outputs": [
    {
     "data": {
      "text/html": [
       "<div>\n",
       "<style scoped>\n",
       "    .dataframe tbody tr th:only-of-type {\n",
       "        vertical-align: middle;\n",
       "    }\n",
       "\n",
       "    .dataframe tbody tr th {\n",
       "        vertical-align: top;\n",
       "    }\n",
       "\n",
       "    .dataframe thead th {\n",
       "        text-align: right;\n",
       "    }\n",
       "</style>\n",
       "<table border=\"1\" class=\"dataframe\">\n",
       "  <thead>\n",
       "    <tr style=\"text-align: right;\">\n",
       "      <th></th>\n",
       "      <th>duration_ms</th>\n",
       "      <th>popularity</th>\n",
       "      <th>total_tracks</th>\n",
       "      <th>danceability</th>\n",
       "      <th>energy</th>\n",
       "      <th>key</th>\n",
       "      <th>loudness</th>\n",
       "      <th>mode</th>\n",
       "      <th>speechiness</th>\n",
       "      <th>acousticness</th>\n",
       "      <th>instrumentalness</th>\n",
       "      <th>liveness</th>\n",
       "      <th>valence</th>\n",
       "      <th>tempo</th>\n",
       "      <th>time_signature</th>\n",
       "    </tr>\n",
       "  </thead>\n",
       "  <tbody>\n",
       "    <tr>\n",
       "      <th>count</th>\n",
       "      <td>6917.000000</td>\n",
       "      <td>6917.000000</td>\n",
       "      <td>6917.000000</td>\n",
       "      <td>6917.000000</td>\n",
       "      <td>6917.000000</td>\n",
       "      <td>6917.000000</td>\n",
       "      <td>6917.000000</td>\n",
       "      <td>6917.000000</td>\n",
       "      <td>6917.000000</td>\n",
       "      <td>6917.000000</td>\n",
       "      <td>6917.000000</td>\n",
       "      <td>6917.000000</td>\n",
       "      <td>6917.000000</td>\n",
       "      <td>6917.000000</td>\n",
       "      <td>6917.000000</td>\n",
       "    </tr>\n",
       "    <tr>\n",
       "      <th>mean</th>\n",
       "      <td>230325.976579</td>\n",
       "      <td>60.491543</td>\n",
       "      <td>11.780541</td>\n",
       "      <td>0.663048</td>\n",
       "      <td>0.680214</td>\n",
       "      <td>5.348851</td>\n",
       "      <td>-6.725942</td>\n",
       "      <td>0.584357</td>\n",
       "      <td>0.111231</td>\n",
       "      <td>0.178805</td>\n",
       "      <td>0.034783</td>\n",
       "      <td>0.184376</td>\n",
       "      <td>0.538109</td>\n",
       "      <td>120.034788</td>\n",
       "      <td>3.972531</td>\n",
       "    </tr>\n",
       "    <tr>\n",
       "      <th>std</th>\n",
       "      <td>54336.723207</td>\n",
       "      <td>12.944708</td>\n",
       "      <td>8.268982</td>\n",
       "      <td>0.151653</td>\n",
       "      <td>0.173824</td>\n",
       "      <td>3.617507</td>\n",
       "      <td>2.783829</td>\n",
       "      <td>0.492868</td>\n",
       "      <td>0.096413</td>\n",
       "      <td>0.214174</td>\n",
       "      <td>0.138639</td>\n",
       "      <td>0.147764</td>\n",
       "      <td>0.233274</td>\n",
       "      <td>28.015297</td>\n",
       "      <td>0.247247</td>\n",
       "    </tr>\n",
       "    <tr>\n",
       "      <th>min</th>\n",
       "      <td>120133.000000</td>\n",
       "      <td>0.000000</td>\n",
       "      <td>1.000000</td>\n",
       "      <td>0.142000</td>\n",
       "      <td>0.084800</td>\n",
       "      <td>0.000000</td>\n",
       "      <td>-20.567000</td>\n",
       "      <td>0.000000</td>\n",
       "      <td>0.022400</td>\n",
       "      <td>0.000002</td>\n",
       "      <td>0.000000</td>\n",
       "      <td>0.013600</td>\n",
       "      <td>0.026000</td>\n",
       "      <td>52.145000</td>\n",
       "      <td>1.000000</td>\n",
       "    </tr>\n",
       "    <tr>\n",
       "      <th>25%</th>\n",
       "      <td>193466.000000</td>\n",
       "      <td>53.000000</td>\n",
       "      <td>8.000000</td>\n",
       "      <td>0.562000</td>\n",
       "      <td>0.562000</td>\n",
       "      <td>2.000000</td>\n",
       "      <td>-8.166000</td>\n",
       "      <td>0.000000</td>\n",
       "      <td>0.040600</td>\n",
       "      <td>0.020400</td>\n",
       "      <td>0.000000</td>\n",
       "      <td>0.091600</td>\n",
       "      <td>0.356000</td>\n",
       "      <td>96.571000</td>\n",
       "      <td>4.000000</td>\n",
       "    </tr>\n",
       "    <tr>\n",
       "      <th>50%</th>\n",
       "      <td>223733.000000</td>\n",
       "      <td>62.000000</td>\n",
       "      <td>12.000000</td>\n",
       "      <td>0.679000</td>\n",
       "      <td>0.696000</td>\n",
       "      <td>6.000000</td>\n",
       "      <td>-6.258000</td>\n",
       "      <td>1.000000</td>\n",
       "      <td>0.064500</td>\n",
       "      <td>0.088000</td>\n",
       "      <td>0.000002</td>\n",
       "      <td>0.125000</td>\n",
       "      <td>0.546000</td>\n",
       "      <td>120.010000</td>\n",
       "      <td>4.000000</td>\n",
       "    </tr>\n",
       "    <tr>\n",
       "      <th>75%</th>\n",
       "      <td>259853.000000</td>\n",
       "      <td>69.000000</td>\n",
       "      <td>16.000000</td>\n",
       "      <td>0.775000</td>\n",
       "      <td>0.818000</td>\n",
       "      <td>8.000000</td>\n",
       "      <td>-4.787000</td>\n",
       "      <td>1.000000</td>\n",
       "      <td>0.157000</td>\n",
       "      <td>0.261000</td>\n",
       "      <td>0.000470</td>\n",
       "      <td>0.236000</td>\n",
       "      <td>0.728000</td>\n",
       "      <td>136.029000</td>\n",
       "      <td>4.000000</td>\n",
       "    </tr>\n",
       "    <tr>\n",
       "      <th>max</th>\n",
       "      <td>591693.000000</td>\n",
       "      <td>100.000000</td>\n",
       "      <td>125.000000</td>\n",
       "      <td>0.983000</td>\n",
       "      <td>0.998000</td>\n",
       "      <td>11.000000</td>\n",
       "      <td>0.878000</td>\n",
       "      <td>1.000000</td>\n",
       "      <td>0.399000</td>\n",
       "      <td>0.983000</td>\n",
       "      <td>0.973000</td>\n",
       "      <td>0.979000</td>\n",
       "      <td>0.985000</td>\n",
       "      <td>214.025000</td>\n",
       "      <td>5.000000</td>\n",
       "    </tr>\n",
       "  </tbody>\n",
       "</table>\n",
       "</div>"
      ],
      "text/plain": [
       "         duration_ms   popularity  total_tracks  danceability       energy  \\\n",
       "count    6917.000000  6917.000000   6917.000000   6917.000000  6917.000000   \n",
       "mean   230325.976579    60.491543     11.780541      0.663048     0.680214   \n",
       "std     54336.723207    12.944708      8.268982      0.151653     0.173824   \n",
       "min    120133.000000     0.000000      1.000000      0.142000     0.084800   \n",
       "25%    193466.000000    53.000000      8.000000      0.562000     0.562000   \n",
       "50%    223733.000000    62.000000     12.000000      0.679000     0.696000   \n",
       "75%    259853.000000    69.000000     16.000000      0.775000     0.818000   \n",
       "max    591693.000000   100.000000    125.000000      0.983000     0.998000   \n",
       "\n",
       "               key     loudness         mode  speechiness  acousticness  \\\n",
       "count  6917.000000  6917.000000  6917.000000  6917.000000   6917.000000   \n",
       "mean      5.348851    -6.725942     0.584357     0.111231      0.178805   \n",
       "std       3.617507     2.783829     0.492868     0.096413      0.214174   \n",
       "min       0.000000   -20.567000     0.000000     0.022400      0.000002   \n",
       "25%       2.000000    -8.166000     0.000000     0.040600      0.020400   \n",
       "50%       6.000000    -6.258000     1.000000     0.064500      0.088000   \n",
       "75%       8.000000    -4.787000     1.000000     0.157000      0.261000   \n",
       "max      11.000000     0.878000     1.000000     0.399000      0.983000   \n",
       "\n",
       "       instrumentalness     liveness      valence        tempo  time_signature  \n",
       "count       6917.000000  6917.000000  6917.000000  6917.000000     6917.000000  \n",
       "mean           0.034783     0.184376     0.538109   120.034788        3.972531  \n",
       "std            0.138639     0.147764     0.233274    28.015297        0.247247  \n",
       "min            0.000000     0.013600     0.026000    52.145000        1.000000  \n",
       "25%            0.000000     0.091600     0.356000    96.571000        4.000000  \n",
       "50%            0.000002     0.125000     0.546000   120.010000        4.000000  \n",
       "75%            0.000470     0.236000     0.728000   136.029000        4.000000  \n",
       "max            0.973000     0.979000     0.985000   214.025000        5.000000  "
      ]
     },
     "execution_count": 6,
     "metadata": {},
     "output_type": "execute_result"
    }
   ],
   "source": [
    "df.describe()"
   ]
  },
  {
   "cell_type": "markdown",
   "metadata": {},
   "source": [
    "From the above table I'm noticing that although time_signature is a numeric field, I should actually treat it as categorical since there is no scale to its values (i.e. time_signature = 2 is not greater than time_Signature = 1)."
   ]
  },
  {
   "cell_type": "code",
   "execution_count": 7,
   "metadata": {},
   "outputs": [
    {
     "data": {
      "text/plain": [
       "pop       1161\n",
       "rock      1136\n",
       "latin     1036\n",
       "hiphop     971\n",
       "edm        956\n",
       "rap        926\n",
       "r&b        731\n",
       "Name: Genre, dtype: int64"
      ]
     },
     "execution_count": 7,
     "metadata": {},
     "output_type": "execute_result"
    }
   ],
   "source": [
    "# Class Frequency of Target Variable\n",
    "\n",
    "df['Genre'].value_counts()"
   ]
  },
  {
   "cell_type": "markdown",
   "metadata": {},
   "source": [
    "Class frequency is relatively evenly-distributed, however there is still some imbalance here with r&b being the least represented genre and rock being the most represented. This is something to keep in mind while evaluating modeling performance - perhaps it would be a good idea to even this distribution using SMOTE to give the model a fair chance at learning each genre's nuances."
   ]
  },
  {
   "cell_type": "markdown",
   "metadata": {},
   "source": [
    "# Modeling"
   ]
  },
  {
   "cell_type": "markdown",
   "metadata": {},
   "source": [
    "### Baseline Model - Decision Tree"
   ]
  },
  {
   "cell_type": "code",
   "execution_count": 8,
   "metadata": {},
   "outputs": [],
   "source": [
    "# Split the data into train and test sets ahead of pre-processing\n",
    "\n",
    "y = df['Genre']\n",
    "X = df.drop(columns = ['Genre', 'Artist', 'Title', 'Album_cover_link', 'release_date_precision', 'release_date', 'id'])\n",
    "\n",
    "X_train, X_test, y_train, y_test = train_test_split(X, y, test_size = 0.2, random_state = 123)"
   ]
  },
  {
   "cell_type": "code",
   "execution_count": 9,
   "metadata": {},
   "outputs": [
    {
     "data": {
      "text/html": [
       "<div>\n",
       "<style scoped>\n",
       "    .dataframe tbody tr th:only-of-type {\n",
       "        vertical-align: middle;\n",
       "    }\n",
       "\n",
       "    .dataframe tbody tr th {\n",
       "        vertical-align: top;\n",
       "    }\n",
       "\n",
       "    .dataframe thead th {\n",
       "        text-align: right;\n",
       "    }\n",
       "</style>\n",
       "<table border=\"1\" class=\"dataframe\">\n",
       "  <thead>\n",
       "    <tr style=\"text-align: right;\">\n",
       "      <th></th>\n",
       "      <th>duration_ms</th>\n",
       "      <th>popularity</th>\n",
       "      <th>total_tracks</th>\n",
       "      <th>danceability</th>\n",
       "      <th>energy</th>\n",
       "      <th>loudness</th>\n",
       "      <th>speechiness</th>\n",
       "      <th>acousticness</th>\n",
       "      <th>instrumentalness</th>\n",
       "      <th>liveness</th>\n",
       "      <th>...</th>\n",
       "      <th>key_6</th>\n",
       "      <th>key_7</th>\n",
       "      <th>key_8</th>\n",
       "      <th>key_9</th>\n",
       "      <th>key_10</th>\n",
       "      <th>key_11</th>\n",
       "      <th>time_signature_3</th>\n",
       "      <th>time_signature_4</th>\n",
       "      <th>time_signature_5</th>\n",
       "      <th>mode_1</th>\n",
       "    </tr>\n",
       "  </thead>\n",
       "  <tbody>\n",
       "    <tr>\n",
       "      <th>2773</th>\n",
       "      <td>194750</td>\n",
       "      <td>45</td>\n",
       "      <td>15</td>\n",
       "      <td>0.446</td>\n",
       "      <td>0.732</td>\n",
       "      <td>-6.428</td>\n",
       "      <td>0.0361</td>\n",
       "      <td>0.00767</td>\n",
       "      <td>0.000000</td>\n",
       "      <td>0.1310</td>\n",
       "      <td>...</td>\n",
       "      <td>0</td>\n",
       "      <td>0</td>\n",
       "      <td>0</td>\n",
       "      <td>0</td>\n",
       "      <td>0</td>\n",
       "      <td>0</td>\n",
       "      <td>0</td>\n",
       "      <td>1</td>\n",
       "      <td>0</td>\n",
       "      <td>0</td>\n",
       "    </tr>\n",
       "    <tr>\n",
       "      <th>5172</th>\n",
       "      <td>180596</td>\n",
       "      <td>79</td>\n",
       "      <td>1</td>\n",
       "      <td>0.684</td>\n",
       "      <td>0.506</td>\n",
       "      <td>-6.743</td>\n",
       "      <td>0.0338</td>\n",
       "      <td>0.15900</td>\n",
       "      <td>0.000000</td>\n",
       "      <td>0.2600</td>\n",
       "      <td>...</td>\n",
       "      <td>1</td>\n",
       "      <td>0</td>\n",
       "      <td>0</td>\n",
       "      <td>0</td>\n",
       "      <td>0</td>\n",
       "      <td>0</td>\n",
       "      <td>0</td>\n",
       "      <td>1</td>\n",
       "      <td>0</td>\n",
       "      <td>1</td>\n",
       "    </tr>\n",
       "    <tr>\n",
       "      <th>726</th>\n",
       "      <td>221640</td>\n",
       "      <td>70</td>\n",
       "      <td>13</td>\n",
       "      <td>0.699</td>\n",
       "      <td>0.502</td>\n",
       "      <td>-12.526</td>\n",
       "      <td>0.0278</td>\n",
       "      <td>0.06070</td>\n",
       "      <td>0.033700</td>\n",
       "      <td>0.3170</td>\n",
       "      <td>...</td>\n",
       "      <td>0</td>\n",
       "      <td>0</td>\n",
       "      <td>0</td>\n",
       "      <td>1</td>\n",
       "      <td>0</td>\n",
       "      <td>0</td>\n",
       "      <td>0</td>\n",
       "      <td>1</td>\n",
       "      <td>0</td>\n",
       "      <td>1</td>\n",
       "    </tr>\n",
       "    <tr>\n",
       "      <th>319</th>\n",
       "      <td>194288</td>\n",
       "      <td>64</td>\n",
       "      <td>19</td>\n",
       "      <td>0.415</td>\n",
       "      <td>0.950</td>\n",
       "      <td>-4.676</td>\n",
       "      <td>0.0621</td>\n",
       "      <td>0.00126</td>\n",
       "      <td>0.000039</td>\n",
       "      <td>0.1330</td>\n",
       "      <td>...</td>\n",
       "      <td>0</td>\n",
       "      <td>0</td>\n",
       "      <td>0</td>\n",
       "      <td>0</td>\n",
       "      <td>0</td>\n",
       "      <td>0</td>\n",
       "      <td>0</td>\n",
       "      <td>1</td>\n",
       "      <td>0</td>\n",
       "      <td>1</td>\n",
       "    </tr>\n",
       "    <tr>\n",
       "      <th>5382</th>\n",
       "      <td>173600</td>\n",
       "      <td>75</td>\n",
       "      <td>14</td>\n",
       "      <td>0.797</td>\n",
       "      <td>0.844</td>\n",
       "      <td>-5.482</td>\n",
       "      <td>0.2750</td>\n",
       "      <td>0.06510</td>\n",
       "      <td>0.000000</td>\n",
       "      <td>0.0870</td>\n",
       "      <td>...</td>\n",
       "      <td>0</td>\n",
       "      <td>0</td>\n",
       "      <td>0</td>\n",
       "      <td>0</td>\n",
       "      <td>0</td>\n",
       "      <td>1</td>\n",
       "      <td>0</td>\n",
       "      <td>1</td>\n",
       "      <td>0</td>\n",
       "      <td>1</td>\n",
       "    </tr>\n",
       "    <tr>\n",
       "      <th>...</th>\n",
       "      <td>...</td>\n",
       "      <td>...</td>\n",
       "      <td>...</td>\n",
       "      <td>...</td>\n",
       "      <td>...</td>\n",
       "      <td>...</td>\n",
       "      <td>...</td>\n",
       "      <td>...</td>\n",
       "      <td>...</td>\n",
       "      <td>...</td>\n",
       "      <td>...</td>\n",
       "      <td>...</td>\n",
       "      <td>...</td>\n",
       "      <td>...</td>\n",
       "      <td>...</td>\n",
       "      <td>...</td>\n",
       "      <td>...</td>\n",
       "      <td>...</td>\n",
       "      <td>...</td>\n",
       "      <td>...</td>\n",
       "      <td>...</td>\n",
       "    </tr>\n",
       "    <tr>\n",
       "      <th>5218</th>\n",
       "      <td>262800</td>\n",
       "      <td>62</td>\n",
       "      <td>12</td>\n",
       "      <td>0.737</td>\n",
       "      <td>0.890</td>\n",
       "      <td>-8.443</td>\n",
       "      <td>0.1580</td>\n",
       "      <td>0.00556</td>\n",
       "      <td>0.001710</td>\n",
       "      <td>0.0801</td>\n",
       "      <td>...</td>\n",
       "      <td>0</td>\n",
       "      <td>0</td>\n",
       "      <td>0</td>\n",
       "      <td>0</td>\n",
       "      <td>0</td>\n",
       "      <td>0</td>\n",
       "      <td>0</td>\n",
       "      <td>1</td>\n",
       "      <td>0</td>\n",
       "      <td>1</td>\n",
       "    </tr>\n",
       "    <tr>\n",
       "      <th>4060</th>\n",
       "      <td>201122</td>\n",
       "      <td>77</td>\n",
       "      <td>15</td>\n",
       "      <td>0.694</td>\n",
       "      <td>0.712</td>\n",
       "      <td>-3.923</td>\n",
       "      <td>0.0460</td>\n",
       "      <td>0.13200</td>\n",
       "      <td>0.000000</td>\n",
       "      <td>0.2110</td>\n",
       "      <td>...</td>\n",
       "      <td>0</td>\n",
       "      <td>1</td>\n",
       "      <td>0</td>\n",
       "      <td>0</td>\n",
       "      <td>0</td>\n",
       "      <td>0</td>\n",
       "      <td>0</td>\n",
       "      <td>1</td>\n",
       "      <td>0</td>\n",
       "      <td>0</td>\n",
       "    </tr>\n",
       "    <tr>\n",
       "      <th>1346</th>\n",
       "      <td>208272</td>\n",
       "      <td>59</td>\n",
       "      <td>21</td>\n",
       "      <td>0.705</td>\n",
       "      <td>0.611</td>\n",
       "      <td>-6.772</td>\n",
       "      <td>0.2360</td>\n",
       "      <td>0.03090</td>\n",
       "      <td>0.000000</td>\n",
       "      <td>0.0903</td>\n",
       "      <td>...</td>\n",
       "      <td>0</td>\n",
       "      <td>0</td>\n",
       "      <td>0</td>\n",
       "      <td>0</td>\n",
       "      <td>0</td>\n",
       "      <td>0</td>\n",
       "      <td>0</td>\n",
       "      <td>1</td>\n",
       "      <td>0</td>\n",
       "      <td>0</td>\n",
       "    </tr>\n",
       "    <tr>\n",
       "      <th>3454</th>\n",
       "      <td>176093</td>\n",
       "      <td>11</td>\n",
       "      <td>12</td>\n",
       "      <td>0.809</td>\n",
       "      <td>0.550</td>\n",
       "      <td>-11.264</td>\n",
       "      <td>0.0392</td>\n",
       "      <td>0.69000</td>\n",
       "      <td>0.000007</td>\n",
       "      <td>0.1120</td>\n",
       "      <td>...</td>\n",
       "      <td>0</td>\n",
       "      <td>0</td>\n",
       "      <td>0</td>\n",
       "      <td>1</td>\n",
       "      <td>0</td>\n",
       "      <td>0</td>\n",
       "      <td>0</td>\n",
       "      <td>1</td>\n",
       "      <td>0</td>\n",
       "      <td>1</td>\n",
       "    </tr>\n",
       "    <tr>\n",
       "      <th>3582</th>\n",
       "      <td>184293</td>\n",
       "      <td>64</td>\n",
       "      <td>12</td>\n",
       "      <td>0.572</td>\n",
       "      <td>0.761</td>\n",
       "      <td>-4.967</td>\n",
       "      <td>0.0345</td>\n",
       "      <td>0.00680</td>\n",
       "      <td>0.000000</td>\n",
       "      <td>0.2830</td>\n",
       "      <td>...</td>\n",
       "      <td>0</td>\n",
       "      <td>0</td>\n",
       "      <td>0</td>\n",
       "      <td>0</td>\n",
       "      <td>0</td>\n",
       "      <td>0</td>\n",
       "      <td>0</td>\n",
       "      <td>1</td>\n",
       "      <td>0</td>\n",
       "      <td>1</td>\n",
       "    </tr>\n",
       "  </tbody>\n",
       "</table>\n",
       "<p>5533 rows × 28 columns</p>\n",
       "</div>"
      ],
      "text/plain": [
       "      duration_ms  popularity  total_tracks  danceability  energy  loudness  \\\n",
       "2773       194750          45            15         0.446   0.732    -6.428   \n",
       "5172       180596          79             1         0.684   0.506    -6.743   \n",
       "726        221640          70            13         0.699   0.502   -12.526   \n",
       "319        194288          64            19         0.415   0.950    -4.676   \n",
       "5382       173600          75            14         0.797   0.844    -5.482   \n",
       "...           ...         ...           ...           ...     ...       ...   \n",
       "5218       262800          62            12         0.737   0.890    -8.443   \n",
       "4060       201122          77            15         0.694   0.712    -3.923   \n",
       "1346       208272          59            21         0.705   0.611    -6.772   \n",
       "3454       176093          11            12         0.809   0.550   -11.264   \n",
       "3582       184293          64            12         0.572   0.761    -4.967   \n",
       "\n",
       "      speechiness  acousticness  instrumentalness  liveness  ...  key_6  \\\n",
       "2773       0.0361       0.00767          0.000000    0.1310  ...      0   \n",
       "5172       0.0338       0.15900          0.000000    0.2600  ...      1   \n",
       "726        0.0278       0.06070          0.033700    0.3170  ...      0   \n",
       "319        0.0621       0.00126          0.000039    0.1330  ...      0   \n",
       "5382       0.2750       0.06510          0.000000    0.0870  ...      0   \n",
       "...           ...           ...               ...       ...  ...    ...   \n",
       "5218       0.1580       0.00556          0.001710    0.0801  ...      0   \n",
       "4060       0.0460       0.13200          0.000000    0.2110  ...      0   \n",
       "1346       0.2360       0.03090          0.000000    0.0903  ...      0   \n",
       "3454       0.0392       0.69000          0.000007    0.1120  ...      0   \n",
       "3582       0.0345       0.00680          0.000000    0.2830  ...      0   \n",
       "\n",
       "      key_7  key_8  key_9  key_10  key_11  time_signature_3  time_signature_4  \\\n",
       "2773      0      0      0       0       0                 0                 1   \n",
       "5172      0      0      0       0       0                 0                 1   \n",
       "726       0      0      1       0       0                 0                 1   \n",
       "319       0      0      0       0       0                 0                 1   \n",
       "5382      0      0      0       0       1                 0                 1   \n",
       "...     ...    ...    ...     ...     ...               ...               ...   \n",
       "5218      0      0      0       0       0                 0                 1   \n",
       "4060      1      0      0       0       0                 0                 1   \n",
       "1346      0      0      0       0       0                 0                 1   \n",
       "3454      0      0      1       0       0                 0                 1   \n",
       "3582      0      0      0       0       0                 0                 1   \n",
       "\n",
       "      time_signature_5  mode_1  \n",
       "2773                 0       0  \n",
       "5172                 0       1  \n",
       "726                  0       1  \n",
       "319                  0       1  \n",
       "5382                 0       1  \n",
       "...                ...     ...  \n",
       "5218                 0       1  \n",
       "4060                 0       0  \n",
       "1346                 0       0  \n",
       "3454                 0       1  \n",
       "3582                 0       1  \n",
       "\n",
       "[5533 rows x 28 columns]"
      ]
     },
     "execution_count": 9,
     "metadata": {},
     "output_type": "execute_result"
    }
   ],
   "source": [
    "# Pre-Processing (Train)\n",
    "\n",
    "X_train_categoricals = X_train[['explicit', 'key', 'time_signature', 'mode']]\n",
    "X_train_categoricals['explicit'] = X_train_categoricals.explicit.astype('category')\n",
    "X_train_categoricals['key'] = X_train_categoricals.key.astype('category')\n",
    "X_train_categoricals['time_signature'] = X_train_categoricals.time_signature.astype('category')\n",
    "X_train_categoricals['mode'] = X_train_categoricals['mode'].astype('category')\n",
    "\n",
    "\n",
    "X_train_dummies = pd.get_dummies(X_train_categoricals, drop_first = True)\n",
    "X_train_numeric = X_train.drop(columns = X_train_categoricals.columns)\n",
    "\n",
    "X_train_OHE = pd.concat([X_train_numeric, X_train_dummies], axis = 1)\n",
    "X_train_OHE"
   ]
  },
  {
   "cell_type": "code",
   "execution_count": 10,
   "metadata": {},
   "outputs": [
    {
     "data": {
      "text/html": [
       "<div>\n",
       "<style scoped>\n",
       "    .dataframe tbody tr th:only-of-type {\n",
       "        vertical-align: middle;\n",
       "    }\n",
       "\n",
       "    .dataframe tbody tr th {\n",
       "        vertical-align: top;\n",
       "    }\n",
       "\n",
       "    .dataframe thead th {\n",
       "        text-align: right;\n",
       "    }\n",
       "</style>\n",
       "<table border=\"1\" class=\"dataframe\">\n",
       "  <thead>\n",
       "    <tr style=\"text-align: right;\">\n",
       "      <th></th>\n",
       "      <th>duration_ms</th>\n",
       "      <th>popularity</th>\n",
       "      <th>total_tracks</th>\n",
       "      <th>danceability</th>\n",
       "      <th>energy</th>\n",
       "      <th>loudness</th>\n",
       "      <th>speechiness</th>\n",
       "      <th>acousticness</th>\n",
       "      <th>instrumentalness</th>\n",
       "      <th>liveness</th>\n",
       "      <th>...</th>\n",
       "      <th>key_6</th>\n",
       "      <th>key_7</th>\n",
       "      <th>key_8</th>\n",
       "      <th>key_9</th>\n",
       "      <th>key_10</th>\n",
       "      <th>key_11</th>\n",
       "      <th>time_signature_3</th>\n",
       "      <th>time_signature_4</th>\n",
       "      <th>time_signature_5</th>\n",
       "      <th>mode_1</th>\n",
       "    </tr>\n",
       "  </thead>\n",
       "  <tbody>\n",
       "    <tr>\n",
       "      <th>4075</th>\n",
       "      <td>186986</td>\n",
       "      <td>81</td>\n",
       "      <td>18</td>\n",
       "      <td>0.697</td>\n",
       "      <td>0.6830</td>\n",
       "      <td>-2.881</td>\n",
       "      <td>0.1170</td>\n",
       "      <td>0.0372</td>\n",
       "      <td>0.000000</td>\n",
       "      <td>0.1370</td>\n",
       "      <td>...</td>\n",
       "      <td>0</td>\n",
       "      <td>0</td>\n",
       "      <td>0</td>\n",
       "      <td>0</td>\n",
       "      <td>0</td>\n",
       "      <td>0</td>\n",
       "      <td>0</td>\n",
       "      <td>1</td>\n",
       "      <td>0</td>\n",
       "      <td>0</td>\n",
       "    </tr>\n",
       "    <tr>\n",
       "      <th>6550</th>\n",
       "      <td>201493</td>\n",
       "      <td>70</td>\n",
       "      <td>14</td>\n",
       "      <td>0.332</td>\n",
       "      <td>0.6350</td>\n",
       "      <td>-5.653</td>\n",
       "      <td>0.0898</td>\n",
       "      <td>0.1590</td>\n",
       "      <td>0.000003</td>\n",
       "      <td>0.0599</td>\n",
       "      <td>...</td>\n",
       "      <td>0</td>\n",
       "      <td>1</td>\n",
       "      <td>0</td>\n",
       "      <td>0</td>\n",
       "      <td>0</td>\n",
       "      <td>0</td>\n",
       "      <td>1</td>\n",
       "      <td>0</td>\n",
       "      <td>0</td>\n",
       "      <td>1</td>\n",
       "    </tr>\n",
       "    <tr>\n",
       "      <th>6021</th>\n",
       "      <td>298493</td>\n",
       "      <td>47</td>\n",
       "      <td>19</td>\n",
       "      <td>0.889</td>\n",
       "      <td>0.7130</td>\n",
       "      <td>-4.845</td>\n",
       "      <td>0.2280</td>\n",
       "      <td>0.0181</td>\n",
       "      <td>0.000000</td>\n",
       "      <td>0.0715</td>\n",
       "      <td>...</td>\n",
       "      <td>0</td>\n",
       "      <td>0</td>\n",
       "      <td>0</td>\n",
       "      <td>0</td>\n",
       "      <td>0</td>\n",
       "      <td>0</td>\n",
       "      <td>0</td>\n",
       "      <td>1</td>\n",
       "      <td>0</td>\n",
       "      <td>1</td>\n",
       "    </tr>\n",
       "    <tr>\n",
       "      <th>1126</th>\n",
       "      <td>165426</td>\n",
       "      <td>69</td>\n",
       "      <td>13</td>\n",
       "      <td>0.380</td>\n",
       "      <td>0.0993</td>\n",
       "      <td>-20.567</td>\n",
       "      <td>0.0509</td>\n",
       "      <td>0.9140</td>\n",
       "      <td>0.000023</td>\n",
       "      <td>0.0605</td>\n",
       "      <td>...</td>\n",
       "      <td>0</td>\n",
       "      <td>0</td>\n",
       "      <td>0</td>\n",
       "      <td>0</td>\n",
       "      <td>0</td>\n",
       "      <td>0</td>\n",
       "      <td>0</td>\n",
       "      <td>1</td>\n",
       "      <td>0</td>\n",
       "      <td>1</td>\n",
       "    </tr>\n",
       "    <tr>\n",
       "      <th>5364</th>\n",
       "      <td>338853</td>\n",
       "      <td>75</td>\n",
       "      <td>16</td>\n",
       "      <td>0.375</td>\n",
       "      <td>0.8620</td>\n",
       "      <td>-3.363</td>\n",
       "      <td>0.2550</td>\n",
       "      <td>0.0710</td>\n",
       "      <td>0.000000</td>\n",
       "      <td>0.2110</td>\n",
       "      <td>...</td>\n",
       "      <td>0</td>\n",
       "      <td>0</td>\n",
       "      <td>0</td>\n",
       "      <td>0</td>\n",
       "      <td>0</td>\n",
       "      <td>1</td>\n",
       "      <td>0</td>\n",
       "      <td>1</td>\n",
       "      <td>0</td>\n",
       "      <td>0</td>\n",
       "    </tr>\n",
       "    <tr>\n",
       "      <th>...</th>\n",
       "      <td>...</td>\n",
       "      <td>...</td>\n",
       "      <td>...</td>\n",
       "      <td>...</td>\n",
       "      <td>...</td>\n",
       "      <td>...</td>\n",
       "      <td>...</td>\n",
       "      <td>...</td>\n",
       "      <td>...</td>\n",
       "      <td>...</td>\n",
       "      <td>...</td>\n",
       "      <td>...</td>\n",
       "      <td>...</td>\n",
       "      <td>...</td>\n",
       "      <td>...</td>\n",
       "      <td>...</td>\n",
       "      <td>...</td>\n",
       "      <td>...</td>\n",
       "      <td>...</td>\n",
       "      <td>...</td>\n",
       "      <td>...</td>\n",
       "    </tr>\n",
       "    <tr>\n",
       "      <th>1213</th>\n",
       "      <td>240341</td>\n",
       "      <td>75</td>\n",
       "      <td>14</td>\n",
       "      <td>0.610</td>\n",
       "      <td>0.4580</td>\n",
       "      <td>-11.336</td>\n",
       "      <td>0.3600</td>\n",
       "      <td>0.6960</td>\n",
       "      <td>0.000103</td>\n",
       "      <td>0.0852</td>\n",
       "      <td>...</td>\n",
       "      <td>0</td>\n",
       "      <td>0</td>\n",
       "      <td>0</td>\n",
       "      <td>1</td>\n",
       "      <td>0</td>\n",
       "      <td>0</td>\n",
       "      <td>0</td>\n",
       "      <td>1</td>\n",
       "      <td>0</td>\n",
       "      <td>1</td>\n",
       "    </tr>\n",
       "    <tr>\n",
       "      <th>6028</th>\n",
       "      <td>221626</td>\n",
       "      <td>60</td>\n",
       "      <td>20</td>\n",
       "      <td>0.462</td>\n",
       "      <td>0.9440</td>\n",
       "      <td>-2.938</td>\n",
       "      <td>0.3150</td>\n",
       "      <td>0.3120</td>\n",
       "      <td>0.000149</td>\n",
       "      <td>0.3670</td>\n",
       "      <td>...</td>\n",
       "      <td>0</td>\n",
       "      <td>0</td>\n",
       "      <td>1</td>\n",
       "      <td>0</td>\n",
       "      <td>0</td>\n",
       "      <td>0</td>\n",
       "      <td>0</td>\n",
       "      <td>1</td>\n",
       "      <td>0</td>\n",
       "      <td>1</td>\n",
       "    </tr>\n",
       "    <tr>\n",
       "      <th>3087</th>\n",
       "      <td>235133</td>\n",
       "      <td>63</td>\n",
       "      <td>20</td>\n",
       "      <td>0.651</td>\n",
       "      <td>0.9120</td>\n",
       "      <td>-3.402</td>\n",
       "      <td>0.2230</td>\n",
       "      <td>0.0969</td>\n",
       "      <td>0.000040</td>\n",
       "      <td>0.1070</td>\n",
       "      <td>...</td>\n",
       "      <td>0</td>\n",
       "      <td>1</td>\n",
       "      <td>0</td>\n",
       "      <td>0</td>\n",
       "      <td>0</td>\n",
       "      <td>0</td>\n",
       "      <td>0</td>\n",
       "      <td>1</td>\n",
       "      <td>0</td>\n",
       "      <td>1</td>\n",
       "    </tr>\n",
       "    <tr>\n",
       "      <th>4488</th>\n",
       "      <td>188386</td>\n",
       "      <td>81</td>\n",
       "      <td>11</td>\n",
       "      <td>0.744</td>\n",
       "      <td>0.6190</td>\n",
       "      <td>-9.805</td>\n",
       "      <td>0.0390</td>\n",
       "      <td>0.5980</td>\n",
       "      <td>0.003720</td>\n",
       "      <td>0.2310</td>\n",
       "      <td>...</td>\n",
       "      <td>0</td>\n",
       "      <td>0</td>\n",
       "      <td>0</td>\n",
       "      <td>0</td>\n",
       "      <td>0</td>\n",
       "      <td>0</td>\n",
       "      <td>0</td>\n",
       "      <td>1</td>\n",
       "      <td>0</td>\n",
       "      <td>1</td>\n",
       "    </tr>\n",
       "    <tr>\n",
       "      <th>2782</th>\n",
       "      <td>181000</td>\n",
       "      <td>59</td>\n",
       "      <td>1</td>\n",
       "      <td>0.807</td>\n",
       "      <td>0.8360</td>\n",
       "      <td>-4.359</td>\n",
       "      <td>0.0359</td>\n",
       "      <td>0.0434</td>\n",
       "      <td>0.396000</td>\n",
       "      <td>0.1130</td>\n",
       "      <td>...</td>\n",
       "      <td>0</td>\n",
       "      <td>0</td>\n",
       "      <td>0</td>\n",
       "      <td>0</td>\n",
       "      <td>0</td>\n",
       "      <td>0</td>\n",
       "      <td>0</td>\n",
       "      <td>1</td>\n",
       "      <td>0</td>\n",
       "      <td>0</td>\n",
       "    </tr>\n",
       "  </tbody>\n",
       "</table>\n",
       "<p>1384 rows × 28 columns</p>\n",
       "</div>"
      ],
      "text/plain": [
       "      duration_ms  popularity  total_tracks  danceability  energy  loudness  \\\n",
       "4075       186986          81            18         0.697  0.6830    -2.881   \n",
       "6550       201493          70            14         0.332  0.6350    -5.653   \n",
       "6021       298493          47            19         0.889  0.7130    -4.845   \n",
       "1126       165426          69            13         0.380  0.0993   -20.567   \n",
       "5364       338853          75            16         0.375  0.8620    -3.363   \n",
       "...           ...         ...           ...           ...     ...       ...   \n",
       "1213       240341          75            14         0.610  0.4580   -11.336   \n",
       "6028       221626          60            20         0.462  0.9440    -2.938   \n",
       "3087       235133          63            20         0.651  0.9120    -3.402   \n",
       "4488       188386          81            11         0.744  0.6190    -9.805   \n",
       "2782       181000          59             1         0.807  0.8360    -4.359   \n",
       "\n",
       "      speechiness  acousticness  instrumentalness  liveness  ...  key_6  \\\n",
       "4075       0.1170        0.0372          0.000000    0.1370  ...      0   \n",
       "6550       0.0898        0.1590          0.000003    0.0599  ...      0   \n",
       "6021       0.2280        0.0181          0.000000    0.0715  ...      0   \n",
       "1126       0.0509        0.9140          0.000023    0.0605  ...      0   \n",
       "5364       0.2550        0.0710          0.000000    0.2110  ...      0   \n",
       "...           ...           ...               ...       ...  ...    ...   \n",
       "1213       0.3600        0.6960          0.000103    0.0852  ...      0   \n",
       "6028       0.3150        0.3120          0.000149    0.3670  ...      0   \n",
       "3087       0.2230        0.0969          0.000040    0.1070  ...      0   \n",
       "4488       0.0390        0.5980          0.003720    0.2310  ...      0   \n",
       "2782       0.0359        0.0434          0.396000    0.1130  ...      0   \n",
       "\n",
       "      key_7  key_8  key_9  key_10  key_11  time_signature_3  time_signature_4  \\\n",
       "4075      0      0      0       0       0                 0                 1   \n",
       "6550      1      0      0       0       0                 1                 0   \n",
       "6021      0      0      0       0       0                 0                 1   \n",
       "1126      0      0      0       0       0                 0                 1   \n",
       "5364      0      0      0       0       1                 0                 1   \n",
       "...     ...    ...    ...     ...     ...               ...               ...   \n",
       "1213      0      0      1       0       0                 0                 1   \n",
       "6028      0      1      0       0       0                 0                 1   \n",
       "3087      1      0      0       0       0                 0                 1   \n",
       "4488      0      0      0       0       0                 0                 1   \n",
       "2782      0      0      0       0       0                 0                 1   \n",
       "\n",
       "      time_signature_5  mode_1  \n",
       "4075                 0       0  \n",
       "6550                 0       1  \n",
       "6021                 0       1  \n",
       "1126                 0       1  \n",
       "5364                 0       0  \n",
       "...                ...     ...  \n",
       "1213                 0       1  \n",
       "6028                 0       1  \n",
       "3087                 0       1  \n",
       "4488                 0       1  \n",
       "2782                 0       0  \n",
       "\n",
       "[1384 rows x 28 columns]"
      ]
     },
     "execution_count": 10,
     "metadata": {},
     "output_type": "execute_result"
    }
   ],
   "source": [
    "# Pre-Processing (Test)\n",
    "\n",
    "X_test_categoricals = X_test[['explicit', 'key', 'time_signature', 'mode']]\n",
    "X_test_categoricals['explicit'] = X_test_categoricals.explicit.astype('category')\n",
    "X_test_categoricals['key'] = X_test_categoricals.key.astype('category')\n",
    "X_test_categoricals['time_signature'] = X_test_categoricals.time_signature.astype('category')\n",
    "X_test_categoricals['mode'] = X_test_categoricals['mode'].astype('category')\n",
    "\n",
    "\n",
    "X_test_dummies = pd.get_dummies(X_test_categoricals, drop_first = True)\n",
    "X_test_numeric = X_test.drop(columns = X_test_categoricals.columns)\n",
    "\n",
    "X_test_OHE = pd.concat([X_test_numeric, X_test_dummies], axis = 1)\n",
    "X_test_OHE"
   ]
  },
  {
   "cell_type": "code",
   "execution_count": 11,
   "metadata": {},
   "outputs": [
    {
     "data": {
      "text/plain": [
       "DecisionTreeClassifier(criterion='entropy', random_state=10)"
      ]
     },
     "execution_count": 11,
     "metadata": {},
     "output_type": "execute_result"
    }
   ],
   "source": [
    "# Fit a baseline Decision Tree Classifier model\n",
    "\n",
    "DTC = DecisionTreeClassifier(criterion = 'entropy', random_state = 10)\n",
    "DTC.fit(X_train_OHE, y_train)"
   ]
  },
  {
   "cell_type": "code",
   "execution_count": 12,
   "metadata": {},
   "outputs": [
    {
     "data": {
      "text/plain": [
       "0.8857016762435178"
      ]
     },
     "execution_count": 12,
     "metadata": {},
     "output_type": "execute_result"
    }
   ],
   "source": [
    "# Make predictions on the training set\n",
    "\n",
    "y_pred_train = DTC.predict(X_train_OHE)\n",
    "\n",
    "balanced_accuracy_score(y_train, y_pred_train)"
   ]
  },
  {
   "cell_type": "code",
   "execution_count": 13,
   "metadata": {},
   "outputs": [
    {
     "data": {
      "text/plain": [
       "0.4033407146280988"
      ]
     },
     "execution_count": 13,
     "metadata": {},
     "output_type": "execute_result"
    }
   ],
   "source": [
    "# Make predictions on the test set\n",
    "\n",
    "y_pred_test = DTC.predict(X_test_OHE)\n",
    "\n",
    "balanced_accuracy_score(y_test, y_pred_test)"
   ]
  },
  {
   "cell_type": "code",
   "execution_count": 14,
   "metadata": {},
   "outputs": [
    {
     "data": {
      "text/plain": [
       "0.9933456361031014"
      ]
     },
     "execution_count": 14,
     "metadata": {},
     "output_type": "execute_result"
    }
   ],
   "source": [
    "# Check AUC score for train data\n",
    "\n",
    "y_pred_train_proba = DTC.predict_proba(X_train_OHE)\n",
    "roc_auc_score(y_train, y_pred_train_proba, multi_class = 'ovr')"
   ]
  },
  {
   "cell_type": "code",
   "execution_count": 15,
   "metadata": {},
   "outputs": [
    {
     "data": {
      "text/plain": [
       "0.6628007865493739"
      ]
     },
     "execution_count": 15,
     "metadata": {},
     "output_type": "execute_result"
    }
   ],
   "source": [
    "# Check AUC score for test data\n",
    "\n",
    "y_pred_test_proba = DTC.predict_proba(X_test_OHE)\n",
    "roc_auc_score(y_test, y_pred_test_proba, multi_class = 'ovr')"
   ]
  },
  {
   "cell_type": "code",
   "execution_count": 16,
   "metadata": {},
   "outputs": [
    {
     "name": "stdout",
     "output_type": "stream",
     "text": [
      "              precision    recall  f1-score   support\n",
      "\n",
      "         edm       0.92      1.00      0.96       743\n",
      "      hiphop       0.66      1.00      0.80       792\n",
      "       latin       0.99      1.00      0.99       839\n",
      "         pop       0.90      0.92      0.91       937\n",
      "         r&b       0.99      0.80      0.88       576\n",
      "         rap       1.00      0.49      0.66       748\n",
      "        rock       1.00      0.99      1.00       898\n",
      "\n",
      "    accuracy                           0.90      5533\n",
      "   macro avg       0.92      0.89      0.89      5533\n",
      "weighted avg       0.92      0.90      0.89      5533\n",
      "\n"
     ]
    }
   ],
   "source": [
    "# Check classification report for train set\n",
    "\n",
    "print(classification_report(y_train, y_pred_train))"
   ]
  },
  {
   "cell_type": "code",
   "execution_count": 17,
   "metadata": {},
   "outputs": [
    {
     "name": "stdout",
     "output_type": "stream",
     "text": [
      "              precision    recall  f1-score   support\n",
      "\n",
      "         edm       0.63      0.55      0.59       213\n",
      "      hiphop       0.25      0.35      0.29       179\n",
      "       latin       0.48      0.46      0.47       197\n",
      "         pop       0.35      0.42      0.38       224\n",
      "         r&b       0.29      0.27      0.28       155\n",
      "         rap       0.21      0.16      0.18       178\n",
      "        rock       0.68      0.62      0.65       238\n",
      "\n",
      "    accuracy                           0.42      1384\n",
      "   macro avg       0.41      0.40      0.41      1384\n",
      "weighted avg       0.43      0.42      0.42      1384\n",
      "\n"
     ]
    }
   ],
   "source": [
    "# Check classification report for test set\n",
    "\n",
    "print(classification_report(y_test, y_pred_test))"
   ]
  },
  {
   "cell_type": "markdown",
   "metadata": {},
   "source": [
    "It looks like the baseline model is performing well on the training data, but not very well on the testing data - which suggests overfitting. I will need to tune my model's hyperparameters to adjust for this.\n",
    "\n",
    "Additionally, I will perform SMOTE resampling to adjust for class imbalance."
   ]
  },
  {
   "cell_type": "code",
   "execution_count": 18,
   "metadata": {},
   "outputs": [
    {
     "name": "stdout",
     "output_type": "stream",
     "text": [
      "pop       937\n",
      "rock      898\n",
      "latin     839\n",
      "hiphop    792\n",
      "rap       748\n",
      "edm       743\n",
      "r&b       576\n",
      "Name: Genre, dtype: int64\n",
      "edm       937\n",
      "r&b       937\n",
      "hiphop    937\n",
      "latin     937\n",
      "rap       937\n",
      "pop       937\n",
      "rock      937\n",
      "Name: Genre, dtype: int64\n"
     ]
    }
   ],
   "source": [
    "# Perform SMOTE resampling on the train set\n",
    "\n",
    "print(y_train.value_counts())\n",
    "\n",
    "X_train_resampled, y_train_resampled = SMOTE().fit_resample(X_train_OHE, y_train)\n",
    "\n",
    "print(pd.Series(y_train_resampled).value_counts()) "
   ]
  },
  {
   "cell_type": "code",
   "execution_count": 19,
   "metadata": {},
   "outputs": [],
   "source": [
    "# Perform SMOTE resampling on the test set\n",
    "\n",
    "X_test_resampled, y_test_resampled = SMOTE().fit_resample(X_test_OHE, y_test)"
   ]
  },
  {
   "cell_type": "code",
   "execution_count": 20,
   "metadata": {},
   "outputs": [],
   "source": [
    "# Fit a new model on the resampled train set, make predictions on the resampled train and set sets\n",
    "\n",
    "DTC2 = DecisionTreeClassifier(criterion = 'entropy', random_state = 10)\n",
    "DTC2.fit(X_train_resampled, y_train_resampled)\n",
    "\n",
    "y_pred_train_2 = DTC2.predict(X_train_resampled)\n",
    "y_pred_test_2 = DTC2.predict(X_test_resampled)"
   ]
  },
  {
   "cell_type": "code",
   "execution_count": 21,
   "metadata": {},
   "outputs": [
    {
     "name": "stdout",
     "output_type": "stream",
     "text": [
      "              precision    recall  f1-score   support\n",
      "\n",
      "         edm       0.94      1.00      0.97       937\n",
      "      hiphop       0.70      1.00      0.82       937\n",
      "       latin       0.99      1.00      0.99       937\n",
      "         pop       0.90      0.92      0.91       937\n",
      "         r&b       0.99      0.87      0.93       937\n",
      "         rap       1.00      0.60      0.75       937\n",
      "        rock       1.00      0.99      1.00       937\n",
      "\n",
      "    accuracy                           0.91      6559\n",
      "   macro avg       0.93      0.91      0.91      6559\n",
      "weighted avg       0.93      0.91      0.91      6559\n",
      "\n"
     ]
    }
   ],
   "source": [
    "# Check to see how train scores have been impacted\n",
    "\n",
    "print(classification_report(y_train_resampled, y_pred_train_2))"
   ]
  },
  {
   "cell_type": "code",
   "execution_count": 22,
   "metadata": {},
   "outputs": [
    {
     "name": "stdout",
     "output_type": "stream",
     "text": [
      "              precision    recall  f1-score   support\n",
      "\n",
      "         edm       0.66      0.61      0.63       238\n",
      "      hiphop       0.27      0.34      0.31       238\n",
      "       latin       0.47      0.48      0.47       238\n",
      "         pop       0.31      0.33      0.32       238\n",
      "         r&b       0.34      0.31      0.32       238\n",
      "         rap       0.30      0.25      0.27       238\n",
      "        rock       0.58      0.57      0.58       238\n",
      "\n",
      "    accuracy                           0.41      1666\n",
      "   macro avg       0.42      0.41      0.41      1666\n",
      "weighted avg       0.42      0.41      0.41      1666\n",
      "\n"
     ]
    }
   ],
   "source": [
    "# Check to see how test scores have been impacted\n",
    "\n",
    "print(classification_report(y_test_resampled, y_pred_test_2))"
   ]
  },
  {
   "cell_type": "markdown",
   "metadata": {},
   "source": [
    "Resampling alone did not impact model performance sigificantly - only 1% increase in train accuracy. Next I will tune model hyperparameters."
   ]
  },
  {
   "cell_type": "code",
   "execution_count": 23,
   "metadata": {},
   "outputs": [
    {
     "data": {
      "image/png": "[encoded data removed]",
      "text/plain": [
       "<Figure size 864x432 with 1 Axes>"
      ]
     },
     "metadata": {
      "needs_background": "light"
     },
     "output_type": "display_data"
    }
   ],
   "source": [
    "## Tune hyperparameters to adjust for overfitting\n",
    "\n",
    "max_depth = np.array(range(1,10))\n",
    "\n",
    "train_results = []\n",
    "test_results = []\n",
    "\n",
    "for value in max_depth:\n",
    "    DTC = DecisionTreeClassifier(criterion = 'entropy', max_depth = value, random_state = 1)\n",
    "    DTC.fit(X_train_resampled, y_train_resampled)\n",
    "    y_pred_train_proba = DTC.predict_proba(X_train_resampled)\n",
    "    roc_auc = roc_auc_score(y_train_resampled, y_pred_train_proba, multi_class = 'ovr')\n",
    "    train_results.append(roc_auc)\n",
    "    \n",
    "    y_pred_test_proba = DTC.predict_proba(X_test_resampled)\n",
    "    roc_auc = roc_auc_score(y_test_resampled, y_pred_test_proba, multi_class = 'ovr')\n",
    "    test_results.append(roc_auc)\n",
    "\n",
    "plt.figure(figsize=(12,6))\n",
    "plt.plot(max_depth, train_results, 'b', label='Train AUC')\n",
    "plt.plot(max_depth, test_results, 'r', label='Test AUC')\n",
    "plt.ylabel('AUC Score')\n",
    "plt.xlabel('Tree Depth')\n",
    "plt.legend()\n",
    "plt.show()"
   ]
  },
  {
   "cell_type": "code",
   "execution_count": 24,
   "metadata": {},
   "outputs": [
    {
     "data": {
      "image/png": "[encoded data removed]",
      "text/plain": [
       "<Figure size 864x432 with 1 Axes>"
      ]
     },
     "metadata": {
      "needs_background": "light"
     },
     "output_type": "display_data"
    }
   ],
   "source": [
    "max_depth = np.array(range(1,10))\n",
    "\n",
    "train_results = []\n",
    "test_results = []\n",
    "\n",
    "for value in max_depth:\n",
    "    DTC = DecisionTreeClassifier(criterion = 'entropy', max_depth = value, random_state = 1)\n",
    "    DTC.fit(X_train_resampled, y_train_resampled)\n",
    "    y_pred_train = DTC.predict(X_train_resampled)\n",
    "    train_accuracy = accuracy_score(y_train_resampled, y_pred_train)\n",
    "    train_results.append(train_accuracy)\n",
    "    \n",
    "    y_pred_test = DTC.predict(X_test_resampled)\n",
    "    test_accuracy = accuracy_score(y_test_resampled, y_pred_test)\n",
    "    test_results.append(test_accuracy)\n",
    "\n",
    "plt.figure(figsize=(12,6))\n",
    "plt.plot(max_depth, train_results, 'b', label='Train Accuracy')\n",
    "plt.plot(max_depth, test_results, 'r', label='Test Accuracy')\n",
    "plt.ylabel('Accuracy Score')\n",
    "plt.xlabel('Tree Depth')\n",
    "plt.legend()\n",
    "plt.show()"
   ]
  },
  {
   "cell_type": "code",
   "execution_count": 25,
   "metadata": {},
   "outputs": [
    {
     "data": {
      "text/plain": [
       "DecisionTreeClassifier(criterion='entropy', max_depth=8, random_state=1)"
      ]
     },
     "execution_count": 25,
     "metadata": {},
     "output_type": "execute_result"
    }
   ],
   "source": [
    "DTC3 = DecisionTreeClassifier(criterion = 'entropy', random_state = 1, max_depth = 8)\n",
    "DTC3.fit(X_train_resampled, y_train_resampled)"
   ]
  },
  {
   "cell_type": "code",
   "execution_count": 26,
   "metadata": {},
   "outputs": [
    {
     "name": "stdout",
     "output_type": "stream",
     "text": [
      "              precision    recall  f1-score   support\n",
      "\n",
      "         edm       0.86      0.77      0.81       937\n",
      "      hiphop       0.58      0.55      0.57       937\n",
      "       latin       0.58      0.55      0.57       937\n",
      "         pop       0.48      0.60      0.53       937\n",
      "         r&b       0.56      0.54      0.55       937\n",
      "         rap       0.58      0.57      0.58       937\n",
      "        rock       0.70      0.70      0.70       937\n",
      "\n",
      "    accuracy                           0.61      6559\n",
      "   macro avg       0.62      0.61      0.61      6559\n",
      "weighted avg       0.62      0.61      0.61      6559\n",
      "\n"
     ]
    }
   ],
   "source": [
    "y_pred_train_3 = DTC3.predict(X_train_resampled)\n",
    "\n",
    "print(classification_report(y_train_resampled, y_pred_train_3))"
   ]
  },
  {
   "cell_type": "code",
   "execution_count": 27,
   "metadata": {},
   "outputs": [
    {
     "name": "stdout",
     "output_type": "stream",
     "text": [
      "              precision    recall  f1-score   support\n",
      "\n",
      "         edm       0.78      0.63      0.70       238\n",
      "      hiphop       0.50      0.45      0.47       238\n",
      "       latin       0.47      0.49      0.48       238\n",
      "         pop       0.35      0.48      0.41       238\n",
      "         r&b       0.36      0.30      0.33       238\n",
      "         rap       0.45      0.50      0.48       238\n",
      "        rock       0.64      0.60      0.62       238\n",
      "\n",
      "    accuracy                           0.49      1666\n",
      "   macro avg       0.51      0.49      0.50      1666\n",
      "weighted avg       0.51      0.49      0.50      1666\n",
      "\n"
     ]
    }
   ],
   "source": [
    "y_pred_test_3 = DTC3.predict(X_test_resampled)\n",
    "\n",
    "print(classification_report(y_test_resampled, y_pred_test_3))"
   ]
  },
  {
   "cell_type": "code",
   "execution_count": 28,
   "metadata": {},
   "outputs": [
    {
     "data": {
      "text/plain": [
       "{'criterion': 'gini',\n",
       " 'max_depth': 15,\n",
       " 'max_features': 25,\n",
       " 'min_samples_leaf': 17,\n",
       " 'min_samples_split': 44}"
      ]
     },
     "execution_count": 28,
     "metadata": {},
     "output_type": "execute_result"
    }
   ],
   "source": [
    "clf = DecisionTreeClassifier()\n",
    "\n",
    "param_grid = {\n",
    "    'criterion': ['gini', 'entropy'],\n",
    "    'max_depth': [14, 15, 16],\n",
    "    'min_samples_split': [44, 45, 46],\n",
    "    'min_samples_leaf': [15, 16, 17, 18],\n",
    "    'max_features': [20, 25]\n",
    "\n",
    "}\n",
    "\n",
    "gs_tree = GridSearchCV(clf, param_grid, cv=3)\n",
    "gs_tree.fit(X_train_resampled, y_train_resampled)\n",
    "\n",
    "gs_tree.best_params_"
   ]
  },
  {
   "cell_type": "code",
   "execution_count": 29,
   "metadata": {},
   "outputs": [
    {
     "data": {
      "text/plain": [
       "DecisionTreeClassifier(max_depth=14, max_features=20, min_samples_leaf=17,\n",
       "                       min_samples_split=44, random_state=1)"
      ]
     },
     "execution_count": 29,
     "metadata": {},
     "output_type": "execute_result"
    }
   ],
   "source": [
    "DTC_best = DecisionTreeClassifier(criterion = 'gini', \n",
    "                                  max_depth = 14, \n",
    "                                  min_samples_split = 44, \n",
    "                                  min_samples_leaf = 17, \n",
    "                                  max_features = 20,\n",
    "                                  random_state = 1)\n",
    "DTC_best.fit(X_train_resampled, y_train_resampled)"
   ]
  },
  {
   "cell_type": "code",
   "execution_count": 30,
   "metadata": {},
   "outputs": [
    {
     "name": "stdout",
     "output_type": "stream",
     "text": [
      "              precision    recall  f1-score   support\n",
      "\n",
      "         edm       0.80      0.75      0.77       937\n",
      "      hiphop       0.59      0.51      0.55       937\n",
      "       latin       0.59      0.64      0.62       937\n",
      "         pop       0.51      0.55      0.53       937\n",
      "         r&b       0.59      0.59      0.59       937\n",
      "         rap       0.58      0.62      0.60       937\n",
      "        rock       0.73      0.71      0.72       937\n",
      "\n",
      "    accuracy                           0.62      6559\n",
      "   macro avg       0.63      0.62      0.62      6559\n",
      "weighted avg       0.63      0.62      0.62      6559\n",
      "\n"
     ]
    }
   ],
   "source": [
    "y_pred_train_best = DTC_best.predict(X_train_resampled)\n",
    "\n",
    "print(classification_report(y_train_resampled, y_pred_train_best))"
   ]
  },
  {
   "cell_type": "code",
   "execution_count": 31,
   "metadata": {},
   "outputs": [
    {
     "name": "stdout",
     "output_type": "stream",
     "text": [
      "              precision    recall  f1-score   support\n",
      "\n",
      "         edm       0.80      0.71      0.75       238\n",
      "      hiphop       0.46      0.42      0.44       238\n",
      "       latin       0.47      0.47      0.47       238\n",
      "         pop       0.34      0.39      0.37       238\n",
      "         r&b       0.40      0.41      0.40       238\n",
      "         rap       0.42      0.44      0.43       238\n",
      "        rock       0.65      0.63      0.64       238\n",
      "\n",
      "    accuracy                           0.50      1666\n",
      "   macro avg       0.50      0.50      0.50      1666\n",
      "weighted avg       0.50      0.50      0.50      1666\n",
      "\n"
     ]
    }
   ],
   "source": [
    "y_pred_test_best = DTC_best.predict(X_test_resampled)\n",
    "\n",
    "print(classification_report(y_test_resampled, y_pred_test_best))"
   ]
  },
  {
   "cell_type": "markdown",
   "metadata": {},
   "source": [
    "### RANDOM FOREST MODEL"
   ]
  },
  {
   "cell_type": "code",
   "execution_count": 32,
   "metadata": {},
   "outputs": [
    {
     "data": {
      "text/plain": [
       "RandomForestClassifier(max_depth=12, random_state=1)"
      ]
     },
     "execution_count": 32,
     "metadata": {},
     "output_type": "execute_result"
    }
   ],
   "source": [
    "## Model V2 - Random Forest\n",
    "\n",
    "forest = RandomForestClassifier(n_estimators = 100, max_depth = 12, random_state = 1)\n",
    "forest.fit(X_train_resampled, y_train_resampled)"
   ]
  },
  {
   "cell_type": "code",
   "execution_count": 33,
   "metadata": {},
   "outputs": [
    {
     "data": {
      "text/plain": [
       "0.8847385272145144"
      ]
     },
     "execution_count": 33,
     "metadata": {},
     "output_type": "execute_result"
    }
   ],
   "source": [
    "forest.score(X_train_resampled, y_train_resampled)"
   ]
  },
  {
   "cell_type": "code",
   "execution_count": 34,
   "metadata": {},
   "outputs": [
    {
     "data": {
      "text/plain": [
       "0.5720288115246098"
      ]
     },
     "execution_count": 34,
     "metadata": {},
     "output_type": "execute_result"
    }
   ],
   "source": [
    "forest.score(X_test_resampled, y_test_resampled)"
   ]
  },
  {
   "cell_type": "code",
   "execution_count": 35,
   "metadata": {},
   "outputs": [
    {
     "data": {
      "image/png": "[encoded data removed]",
      "text/plain": [
       "<Figure size 1728x720 with 2 Axes>"
      ]
     },
     "metadata": {
      "needs_background": "light"
     },
     "output_type": "display_data"
    }
   ],
   "source": [
    "# Testing different Max Depth values against model accuracy\n",
    "\n",
    "max_depth = np.array(range(1,15))\n",
    "\n",
    "train_results_max_depth = []\n",
    "test_results_max_depth = []\n",
    "\n",
    "for value in max_depth:\n",
    "    RFC = RandomForestClassifier(n_estimators = 100, max_depth = value, random_state = 1)\n",
    "    RFC.fit(X_train_resampled, y_train_resampled)\n",
    "    y_pred_train = RFC.predict(X_train_resampled)\n",
    "    train_accuracy = accuracy_score(y_train_resampled, y_pred_train)\n",
    "    train_results_max_depth.append(train_accuracy)\n",
    "    \n",
    "    y_pred_test = RFC.predict(X_test_resampled)\n",
    "    test_accuracy = accuracy_score(y_test_resampled, y_pred_test)\n",
    "    test_results_max_depth.append(test_accuracy)\n",
    "    \n",
    "# Testing different Min Sample Split values against model accuracy\n",
    "    \n",
    "min_samples_splits = [10, 20, 30, 40, 50, 100]\n",
    "min_samples_splits\n",
    "\n",
    "train_results_sample_splits = []\n",
    "test_results_sample_splits = []\n",
    "    \n",
    "for min_samples_split in min_samples_splits:\n",
    "    RFC = RandomForestClassifier(n_estimators = 100, min_samples_split = min_samples_split, random_state = 1)\n",
    "    RFC.fit(X_train_resampled, y_train_resampled)\n",
    "    y_pred_train = RFC.predict(X_train_resampled)\n",
    "    train_accuracy = accuracy_score(y_train_resampled, y_pred_train)\n",
    "    train_results_sample_splits.append(train_accuracy)\n",
    "    \n",
    "    y_pred_test = RFC.predict(X_test_resampled)\n",
    "    test_accuracy = accuracy_score(y_test_resampled, y_pred_test)\n",
    "    test_results_sample_splits.append(test_accuracy)\n",
    "    \n",
    "# Plotting results\n",
    "   \n",
    "fig , (ax1, ax2) = plt.subplots(nrows = 1, ncols = 2, figsize = (24,10))\n",
    "\n",
    "ax1.plot(max_depth, train_results_max_depth, 'b', label='Train Accuracy')\n",
    "ax1.plot(max_depth, test_results_max_depth, 'r', label='Test Accuracy')\n",
    "ax1.set_ylabel('Accuracy Score')\n",
    "ax1.set_xlabel('Tree Depth')\n",
    "ax1.legend()\n",
    "\n",
    "ax2.plot(min_samples_splits, train_results_sample_splits, 'b', label='Train Accuracy')\n",
    "ax2.plot(min_samples_splits, test_results_sample_splits, 'r', label='Test Accuracy')\n",
    "ax2.set_ylabel('Accuracy Score')\n",
    "ax2.set_xlabel('Min Sample Splits')\n",
    "ax2.legend();"
   ]
  },
  {
   "cell_type": "markdown",
   "metadata": {},
   "source": [
    "The above shows a Tree Depth of around 8-12 being optimal, and a Min Samples Split of around 20-40 being optimal."
   ]
  },
  {
   "cell_type": "code",
   "execution_count": 36,
   "metadata": {},
   "outputs": [
    {
     "data": {
      "text/plain": [
       "{'criterion': 'entropy',\n",
       " 'max_depth': 10,\n",
       " 'min_samples_split': 25,\n",
       " 'n_estimators': 100}"
      ]
     },
     "execution_count": 36,
     "metadata": {},
     "output_type": "execute_result"
    }
   ],
   "source": [
    "forest_clf = RandomForestClassifier()\n",
    "\n",
    "param_grid = {\n",
    "    'criterion': ['gini', 'entropy'],\n",
    "    'n_estimators': [100],\n",
    "    'max_depth': [8, 10, 12],\n",
    "    'min_samples_split': [20, 25, 30, 40],\n",
    "\n",
    "}\n",
    "\n",
    "gs_forest = GridSearchCV(forest_clf, param_grid, cv=3)\n",
    "gs_forest.fit(X_train_resampled, y_train_resampled)\n",
    "\n",
    "gs_forest.best_params_"
   ]
  },
  {
   "cell_type": "code",
   "execution_count": 37,
   "metadata": {},
   "outputs": [
    {
     "data": {
      "text/plain": [
       "RandomForestClassifier(max_depth=12, min_samples_split=30, random_state=1)"
      ]
     },
     "execution_count": 37,
     "metadata": {},
     "output_type": "execute_result"
    }
   ],
   "source": [
    "forest2 = RandomForestClassifier(criterion = 'gini', max_depth = 12, n_estimators = 100, min_samples_split = 30, random_state = 1)\n",
    "forest2.fit(X_train_resampled, y_train_resampled)"
   ]
  },
  {
   "cell_type": "code",
   "execution_count": 38,
   "metadata": {},
   "outputs": [
    {
     "data": {
      "text/plain": [
       "0.7612440920872084"
      ]
     },
     "execution_count": 38,
     "metadata": {},
     "output_type": "execute_result"
    }
   ],
   "source": [
    "forest2.score(X_train_resampled, y_train_resampled)"
   ]
  },
  {
   "cell_type": "code",
   "execution_count": 39,
   "metadata": {},
   "outputs": [
    {
     "data": {
      "text/plain": [
       "0.6020408163265306"
      ]
     },
     "execution_count": 39,
     "metadata": {},
     "output_type": "execute_result"
    }
   ],
   "source": [
    "forest2.score(X_test_resampled, y_test_resampled)"
   ]
  },
  {
   "cell_type": "markdown",
   "metadata": {},
   "source": [
    "### BINARY CLASSIFICATION TESTING"
   ]
  },
  {
   "cell_type": "markdown",
   "metadata": {},
   "source": [
    "### HipHop vs. Not HipHop"
   ]
  },
  {
   "cell_type": "code",
   "execution_count": 40,
   "metadata": {},
   "outputs": [],
   "source": [
    "## What if we treat this like a binary classification problem? hip hop or not hiphop for example\n",
    "\n",
    "y_train_binary_hiphop = y_train.replace(['pop','r&b','rap','rock','edm','latin'],'not_hiphop')\n",
    "y_test_binary_hiphop = y_test.replace(['pop','r&b','rap','rock','edm','latin'],'not_hiphop')"
   ]
  },
  {
   "cell_type": "code",
   "execution_count": 41,
   "metadata": {},
   "outputs": [
    {
     "data": {
      "text/plain": [
       "not_hiphop    4741\n",
       "hiphop         792\n",
       "Name: Genre, dtype: int64"
      ]
     },
     "execution_count": 41,
     "metadata": {},
     "output_type": "execute_result"
    }
   ],
   "source": [
    "y_train_binary_hiphop.value_counts()"
   ]
  },
  {
   "cell_type": "markdown",
   "metadata": {},
   "source": [
    "The value counts noted above indicate a large imbalance in class - more than 5 times as many non_hiphop songs than hiphop songs. I will address this using SMOTE."
   ]
  },
  {
   "cell_type": "code",
   "execution_count": 42,
   "metadata": {},
   "outputs": [
    {
     "name": "stdout",
     "output_type": "stream",
     "text": [
      "not_hiphop    4741\n",
      "hiphop         792\n",
      "Name: Genre, dtype: int64\n",
      "hiphop        4741\n",
      "not_hiphop    4741\n",
      "Name: Genre, dtype: int64\n"
     ]
    }
   ],
   "source": [
    "print(y_train_binary_hiphop.value_counts())\n",
    "\n",
    "X_train_binary_hiphop_resampled, y_train_binary_hiphop_resampled = SMOTE().fit_resample(X_train_OHE, y_train_binary_hiphop)\n",
    "\n",
    "print(pd.Series(y_train_binary_hiphop_resampled).value_counts()) "
   ]
  },
  {
   "cell_type": "code",
   "execution_count": 43,
   "metadata": {},
   "outputs": [
    {
     "name": "stdout",
     "output_type": "stream",
     "text": [
      "not_hiphop    1205\n",
      "hiphop         179\n",
      "Name: Genre, dtype: int64\n",
      "not_hiphop    1205\n",
      "hiphop        1205\n",
      "Name: Genre, dtype: int64\n"
     ]
    }
   ],
   "source": [
    "print(y_test_binary_hiphop.value_counts())\n",
    "\n",
    "X_test_binary_hiphop_resampled, y_test_binary_hiphop_resampled = SMOTE().fit_resample(X_test_OHE, y_test_binary_hiphop)\n",
    "\n",
    "print(pd.Series(y_test_binary_hiphop_resampled).value_counts()) "
   ]
  },
  {
   "cell_type": "code",
   "execution_count": 44,
   "metadata": {},
   "outputs": [
    {
     "data": {
      "text/plain": [
       "{'criterion': 'gini',\n",
       " 'max_depth': 14,\n",
       " 'max_features': 20,\n",
       " 'min_samples_leaf': 15,\n",
       " 'min_samples_split': 46}"
      ]
     },
     "execution_count": 44,
     "metadata": {},
     "output_type": "execute_result"
    }
   ],
   "source": [
    "clf_binary_hiphop = DecisionTreeClassifier()\n",
    "\n",
    "param_grid = {\n",
    "    'criterion': ['gini', 'entropy'],\n",
    "    'max_depth': [14, 15, 16],\n",
    "    'min_samples_split': [44, 45, 46],\n",
    "    'min_samples_leaf': [15, 16, 17, 18],\n",
    "    'max_features': [20, 25]\n",
    "\n",
    "}\n",
    "\n",
    "gs_tree = GridSearchCV(clf_binary_hiphop, param_grid, cv=3)\n",
    "gs_tree.fit(X_train_binary_hiphop_resampled, y_train_binary_hiphop_resampled)\n",
    "\n",
    "gs_tree.best_params_"
   ]
  },
  {
   "cell_type": "code",
   "execution_count": 45,
   "metadata": {},
   "outputs": [
    {
     "data": {
      "text/plain": [
       "DecisionTreeClassifier(max_depth=16, max_features=20, min_samples_leaf=15,\n",
       "                       min_samples_split=46, random_state=1)"
      ]
     },
     "execution_count": 45,
     "metadata": {},
     "output_type": "execute_result"
    }
   ],
   "source": [
    "DTC_best_binary_hiphop = DecisionTreeClassifier(criterion = 'gini', \n",
    "                                  max_depth = 16, \n",
    "                                  min_samples_split = 46, \n",
    "                                  min_samples_leaf = 15, \n",
    "                                  max_features = 20,\n",
    "                                  random_state = 1)\n",
    "\n",
    "DTC_best_binary_hiphop.fit(X_train_binary_hiphop_resampled, y_train_binary_hiphop_resampled)"
   ]
  },
  {
   "cell_type": "code",
   "execution_count": 46,
   "metadata": {},
   "outputs": [
    {
     "name": "stdout",
     "output_type": "stream",
     "text": [
      "              precision    recall  f1-score   support\n",
      "\n",
      "      hiphop       0.88      0.90      0.89      4741\n",
      "  not_hiphop       0.89      0.87      0.88      4741\n",
      "\n",
      "    accuracy                           0.88      9482\n",
      "   macro avg       0.89      0.88      0.88      9482\n",
      "weighted avg       0.89      0.88      0.88      9482\n",
      "\n"
     ]
    }
   ],
   "source": [
    "y_pred_train_best_binary_hiphop = DTC_best_binary_hiphop.predict(X_train_binary_hiphop_resampled)\n",
    "\n",
    "print(classification_report(y_train_binary_hiphop_resampled, y_pred_train_best_binary_hiphop))"
   ]
  },
  {
   "cell_type": "code",
   "execution_count": 47,
   "metadata": {},
   "outputs": [
    {
     "name": "stdout",
     "output_type": "stream",
     "text": [
      "              precision    recall  f1-score   support\n",
      "\n",
      "      hiphop       0.83      0.82      0.83      1205\n",
      "  not_hiphop       0.82      0.83      0.83      1205\n",
      "\n",
      "    accuracy                           0.83      2410\n",
      "   macro avg       0.83      0.83      0.83      2410\n",
      "weighted avg       0.83      0.83      0.83      2410\n",
      "\n"
     ]
    }
   ],
   "source": [
    "y_pred_test_best_binary_hiphop = DTC_best_binary_hiphop.predict(X_test_binary_hiphop_resampled)\n",
    "\n",
    "print(classification_report(y_test_binary_hiphop_resampled, y_pred_test_best_binary_hiphop))"
   ]
  },
  {
   "cell_type": "code",
   "execution_count": 48,
   "metadata": {},
   "outputs": [
    {
     "data": {
      "image/png": "[encoded data removed]",
      "text/plain": [
       "<Figure size 576x576 with 1 Axes>"
      ]
     },
     "metadata": {
      "needs_background": "light"
     },
     "output_type": "display_data"
    }
   ],
   "source": [
    "def plot_feature_importances(model):\n",
    "    n_features = X_train_OHE.shape[1]\n",
    "    plt.figure(figsize=(8,8))\n",
    "    plt.barh(range(n_features), model.feature_importances_, align='center') \n",
    "    plt.yticks(np.arange(n_features), X_train_OHE.columns.values) \n",
    "    plt.xlabel('Feature importance')\n",
    "    plt.ylabel('Feature')\n",
    "\n",
    "plot_feature_importances(DTC_best_binary_hiphop)"
   ]
  },
  {
   "cell_type": "markdown",
   "metadata": {},
   "source": [
    "It looks like binary classification yielded much better results than did multi-class. I will now define a function that repeats the above-steps generalized to all genres so that I can repeat this analysis for each. I will also add a Random Forest model for each genre to see the improved performance compared to the Decision Tree model."
   ]
  },
  {
   "cell_type": "code",
   "execution_count": 227,
   "metadata": {},
   "outputs": [],
   "source": [
    "def genre_summary_report(genre):\n",
    "    \n",
    "    # Transform target variables into binary based on genre input\n",
    "    train_remove_list = list(y_train.unique())\n",
    "    train_remove_list.remove(genre)\n",
    "    \n",
    "    test_remove_list = list(y_test.unique())\n",
    "    test_remove_list.remove(genre)\n",
    "        \n",
    "    y_train_binary = y_train.replace(train_remove_list,'not_' + genre)\n",
    "    y_test_binary = y_test.replace(test_remove_list,'not_' + genre)\n",
    "    \n",
    "    # Resample to adjust for class imbalance\n",
    "    X_train_binary_resampled, y_train_binary_resampled = SMOTE().fit_resample(X_train_OHE, y_train_binary)\n",
    "    X_test_binary_resampled, y_test_binary_resampled = SMOTE().fit_resample(X_test_OHE, y_test_binary)\n",
    "    \n",
    "    # Test DTC Parameters\n",
    "    clf_binary = DecisionTreeClassifier()\n",
    "\n",
    "    param_grid = {\n",
    "    'criterion': ['gini', 'entropy'],\n",
    "    'max_depth': [14, 15, 16],\n",
    "    'min_samples_split': [44, 45, 46],\n",
    "    'min_samples_leaf': [15, 16, 17, 18],\n",
    "    'max_features': [20, 25]}\n",
    "\n",
    "    gs_tree = GridSearchCV(clf_binary, param_grid, cv=3)\n",
    "    gs_tree.fit(X_train_binary_resampled, y_train_binary_resampled)\n",
    "\n",
    "    params = gs_tree.best_params_\n",
    "    \n",
    "    \n",
    "    # Tune Decision Tree with best parameters\n",
    "    DTC_best_binary = DecisionTreeClassifier(criterion = params['criterion'], \n",
    "                                  max_depth = params['max_depth'], \n",
    "                                  min_samples_split = params['min_samples_split'], \n",
    "                                  min_samples_leaf = params['min_samples_leaf'], \n",
    "                                  max_features = params['max_features'],\n",
    "                                  random_state = 1)\n",
    "\n",
    "    DTC_best_binary.fit(X_train_binary_resampled, y_train_binary_resampled)\n",
    "    \n",
    "    # Use tuned model to predict values\n",
    "    y_pred_train_best_binary = DTC_best_binary.predict(X_train_binary_resampled)\n",
    "    y_pred_test_best_binary = DTC_best_binary.predict(X_test_binary_resampled)\n",
    "    \n",
    "    # Test RFC Parameters\n",
    "    clf_binary2 = RandomForestClassifier()\n",
    "\n",
    "    param_grid = {\n",
    "    'criterion': ['gini', 'entropy'],\n",
    "    'max_depth': [14, 15],\n",
    "    'min_samples_split': [44, 45],}\n",
    "\n",
    "    gs_forest = GridSearchCV(clf_binary2, param_grid, cv=3)\n",
    "    gs_forest.fit(X_train_binary_resampled, y_train_binary_resampled)\n",
    "\n",
    "    params2 = gs_forest.best_params_\n",
    "    \n",
    "    \n",
    "    # Tune Random Forest with best parameters\n",
    "    RFC_best_binary = RandomForestClassifier(criterion = params['criterion'], \n",
    "                                  max_depth = params['max_depth'], \n",
    "                                  min_samples_split = params['min_samples_split'], \n",
    "                                  random_state = 1)\n",
    "\n",
    "    RFC_best_binary.fit(X_train_binary_resampled, y_train_binary_resampled)\n",
    "    \n",
    "    # Use tuned model to predict values\n",
    "    y_pred_train_best_binary2 = RFC_best_binary.predict(X_train_binary_resampled)\n",
    "    y_pred_test_best_binary2 = RFC_best_binary.predict(X_test_binary_resampled)\n",
    "    \n",
    "    # Return performance summary\n",
    "    print(color.BOLD + genre,'-','DTC Train Performance:' + color.END)\n",
    "    print(classification_report(y_train_binary_resampled, y_pred_train_best_binary))\n",
    "    print(color.BOLD + genre,'-','DTC Test Performance:' + color.END)\n",
    "    print(classification_report(y_test_binary_resampled, y_pred_test_best_binary))\n",
    "    print(color.BOLD + genre,'-','RFC Train Performance:' + color.END)\n",
    "    print(classification_report(y_train_binary_resampled, y_pred_train_best_binary2))\n",
    "    print(color.BOLD + genre,'-','RFC Test Performance:' + color.END)\n",
    "    print(classification_report(y_test_binary_resampled, y_pred_test_best_binary2))\n",
    "    plot_feature_importances(DTC_best_binary)"
   ]
  },
  {
   "cell_type": "code",
   "execution_count": 228,
   "metadata": {},
   "outputs": [
    {
     "name": "stdout",
     "output_type": "stream",
     "text": [
      "\u001b[1mrock - DTC Train Performance:\u001b[0m\n",
      "              precision    recall  f1-score   support\n",
      "\n",
      "    not_rock       0.94      0.92      0.93      4635\n",
      "        rock       0.92      0.95      0.93      4635\n",
      "\n",
      "    accuracy                           0.93      9270\n",
      "   macro avg       0.93      0.93      0.93      9270\n",
      "weighted avg       0.93      0.93      0.93      9270\n",
      "\n",
      "\u001b[1mrock - DTC Test Performance:\u001b[0m\n",
      "              precision    recall  f1-score   support\n",
      "\n",
      "    not_rock       0.88      0.87      0.87      1146\n",
      "        rock       0.87      0.88      0.87      1146\n",
      "\n",
      "    accuracy                           0.87      2292\n",
      "   macro avg       0.87      0.87      0.87      2292\n",
      "weighted avg       0.87      0.87      0.87      2292\n",
      "\n",
      "\u001b[1mrock - RFC Train Performance:\u001b[0m\n",
      "              precision    recall  f1-score   support\n",
      "\n",
      "    not_rock       0.96      0.96      0.96      4635\n",
      "        rock       0.96      0.96      0.96      4635\n",
      "\n",
      "    accuracy                           0.96      9270\n",
      "   macro avg       0.96      0.96      0.96      9270\n",
      "weighted avg       0.96      0.96      0.96      9270\n",
      "\n",
      "\u001b[1mrock - RFC Test Performance:\u001b[0m\n",
      "              precision    recall  f1-score   support\n",
      "\n",
      "    not_rock       0.91      0.94      0.92      1146\n",
      "        rock       0.93      0.91      0.92      1146\n",
      "\n",
      "    accuracy                           0.92      2292\n",
      "   macro avg       0.92      0.92      0.92      2292\n",
      "weighted avg       0.92      0.92      0.92      2292\n",
      "\n"
     ]
    },
    {
     "data": {
      "image/png": "[encoded data removed]",
      "text/plain": [
       "<Figure size 576x576 with 1 Axes>"
      ]
     },
     "metadata": {
      "needs_background": "light"
     },
     "output_type": "display_data"
    }
   ],
   "source": [
    "genre_summary_report('rock')"
   ]
  },
  {
   "cell_type": "markdown",
   "metadata": {},
   "source": [
    "### R&B vs. Not R&B"
   ]
  },
  {
   "cell_type": "code",
   "execution_count": 229,
   "metadata": {},
   "outputs": [
    {
     "name": "stdout",
     "output_type": "stream",
     "text": [
      "\u001b[1mr&b - DTC Train Performance:\u001b[0m\n",
      "              precision    recall  f1-score   support\n",
      "\n",
      "     not_r&b       0.89      0.89      0.89      4957\n",
      "         r&b       0.89      0.89      0.89      4957\n",
      "\n",
      "    accuracy                           0.89      9914\n",
      "   macro avg       0.89      0.89      0.89      9914\n",
      "weighted avg       0.89      0.89      0.89      9914\n",
      "\n",
      "\u001b[1mr&b - DTC Test Performance:\u001b[0m\n",
      "              precision    recall  f1-score   support\n",
      "\n",
      "     not_r&b       0.79      0.86      0.82      1229\n",
      "         r&b       0.85      0.77      0.81      1229\n",
      "\n",
      "    accuracy                           0.82      2458\n",
      "   macro avg       0.82      0.82      0.82      2458\n",
      "weighted avg       0.82      0.82      0.82      2458\n",
      "\n",
      "\u001b[1mr&b - RFC Train Performance:\u001b[0m\n",
      "              precision    recall  f1-score   support\n",
      "\n",
      "     not_r&b       0.93      0.94      0.94      4957\n",
      "         r&b       0.94      0.93      0.93      4957\n",
      "\n",
      "    accuracy                           0.94      9914\n",
      "   macro avg       0.94      0.94      0.94      9914\n",
      "weighted avg       0.94      0.94      0.94      9914\n",
      "\n",
      "\u001b[1mr&b - RFC Test Performance:\u001b[0m\n",
      "              precision    recall  f1-score   support\n",
      "\n",
      "     not_r&b       0.83      0.93      0.88      1229\n",
      "         r&b       0.92      0.81      0.86      1229\n",
      "\n",
      "    accuracy                           0.87      2458\n",
      "   macro avg       0.88      0.87      0.87      2458\n",
      "weighted avg       0.88      0.87      0.87      2458\n",
      "\n"
     ]
    },
    {
     "data": {
      "image/png": "[encoded data removed]",
      "text/plain": [
       "<Figure size 576x576 with 1 Axes>"
      ]
     },
     "metadata": {
      "needs_background": "light"
     },
     "output_type": "display_data"
    }
   ],
   "source": [
    "genre_summary_report('r&b')"
   ]
  },
  {
   "cell_type": "code",
   "execution_count": 230,
   "metadata": {},
   "outputs": [
    {
     "name": "stdout",
     "output_type": "stream",
     "text": [
      "\u001b[1mrap - DTC Train Performance:\u001b[0m\n",
      "              precision    recall  f1-score   support\n",
      "\n",
      "     not_rap       0.88      0.89      0.89      4785\n",
      "         rap       0.89      0.88      0.89      4785\n",
      "\n",
      "    accuracy                           0.89      9570\n",
      "   macro avg       0.89      0.89      0.89      9570\n",
      "weighted avg       0.89      0.89      0.89      9570\n",
      "\n",
      "\u001b[1mrap - DTC Test Performance:\u001b[0m\n",
      "              precision    recall  f1-score   support\n",
      "\n",
      "     not_rap       0.80      0.86      0.83      1206\n",
      "         rap       0.85      0.78      0.81      1206\n",
      "\n",
      "    accuracy                           0.82      2412\n",
      "   macro avg       0.82      0.82      0.82      2412\n",
      "weighted avg       0.82      0.82      0.82      2412\n",
      "\n",
      "\u001b[1mrap - RFC Train Performance:\u001b[0m\n",
      "              precision    recall  f1-score   support\n",
      "\n",
      "     not_rap       0.94      0.88      0.91      4785\n",
      "         rap       0.89      0.95      0.92      4785\n",
      "\n",
      "    accuracy                           0.91      9570\n",
      "   macro avg       0.92      0.91      0.91      9570\n",
      "weighted avg       0.92      0.91      0.91      9570\n",
      "\n",
      "\u001b[1mrap - RFC Test Performance:\u001b[0m\n",
      "              precision    recall  f1-score   support\n",
      "\n",
      "     not_rap       0.87      0.85      0.86      1206\n",
      "         rap       0.85      0.87      0.86      1206\n",
      "\n",
      "    accuracy                           0.86      2412\n",
      "   macro avg       0.86      0.86      0.86      2412\n",
      "weighted avg       0.86      0.86      0.86      2412\n",
      "\n"
     ]
    },
    {
     "data": {
      "image/png": "[encoded data removed]",
      "text/plain": [
       "<Figure size 576x576 with 1 Axes>"
      ]
     },
     "metadata": {
      "needs_background": "light"
     },
     "output_type": "display_data"
    }
   ],
   "source": [
    "genre_summary_report('rap')"
   ]
  },
  {
   "cell_type": "code",
   "execution_count": 231,
   "metadata": {},
   "outputs": [
    {
     "name": "stdout",
     "output_type": "stream",
     "text": [
      "\u001b[1mhiphop - DTC Train Performance:\u001b[0m\n",
      "              precision    recall  f1-score   support\n",
      "\n",
      "      hiphop       0.88      0.88      0.88      4741\n",
      "  not_hiphop       0.88      0.88      0.88      4741\n",
      "\n",
      "    accuracy                           0.88      9482\n",
      "   macro avg       0.88      0.88      0.88      9482\n",
      "weighted avg       0.88      0.88      0.88      9482\n",
      "\n",
      "\u001b[1mhiphop - DTC Test Performance:\u001b[0m\n",
      "              precision    recall  f1-score   support\n",
      "\n",
      "      hiphop       0.84      0.79      0.81      1205\n",
      "  not_hiphop       0.80      0.85      0.82      1205\n",
      "\n",
      "    accuracy                           0.82      2410\n",
      "   macro avg       0.82      0.82      0.82      2410\n",
      "weighted avg       0.82      0.82      0.82      2410\n",
      "\n",
      "\u001b[1mhiphop - RFC Train Performance:\u001b[0m\n",
      "              precision    recall  f1-score   support\n",
      "\n",
      "      hiphop       0.90      0.93      0.91      4741\n",
      "  not_hiphop       0.93      0.89      0.91      4741\n",
      "\n",
      "    accuracy                           0.91      9482\n",
      "   macro avg       0.91      0.91      0.91      9482\n",
      "weighted avg       0.91      0.91      0.91      9482\n",
      "\n",
      "\u001b[1mhiphop - RFC Test Performance:\u001b[0m\n",
      "              precision    recall  f1-score   support\n",
      "\n",
      "      hiphop       0.86      0.88      0.87      1205\n",
      "  not_hiphop       0.88      0.86      0.87      1205\n",
      "\n",
      "    accuracy                           0.87      2410\n",
      "   macro avg       0.87      0.87      0.87      2410\n",
      "weighted avg       0.87      0.87      0.87      2410\n",
      "\n"
     ]
    },
    {
     "data": {
      "image/png": "[encoded data removed]",
      "text/plain": [
       "<Figure size 576x576 with 1 Axes>"
      ]
     },
     "metadata": {
      "needs_background": "light"
     },
     "output_type": "display_data"
    }
   ],
   "source": [
    "genre_summary_report('hiphop')"
   ]
  },
  {
   "cell_type": "code",
   "execution_count": 232,
   "metadata": {},
   "outputs": [
    {
     "name": "stdout",
     "output_type": "stream",
     "text": [
      "\u001b[1mlatin - DTC Train Performance:\u001b[0m\n",
      "              precision    recall  f1-score   support\n",
      "\n",
      "       latin       0.87      0.91      0.89      4694\n",
      "   not_latin       0.91      0.86      0.88      4694\n",
      "\n",
      "    accuracy                           0.89      9388\n",
      "   macro avg       0.89      0.89      0.89      9388\n",
      "weighted avg       0.89      0.89      0.89      9388\n",
      "\n",
      "\u001b[1mlatin - DTC Test Performance:\u001b[0m\n",
      "              precision    recall  f1-score   support\n",
      "\n",
      "       latin       0.81      0.83      0.82      1187\n",
      "   not_latin       0.83      0.80      0.81      1187\n",
      "\n",
      "    accuracy                           0.82      2374\n",
      "   macro avg       0.82      0.82      0.82      2374\n",
      "weighted avg       0.82      0.82      0.82      2374\n",
      "\n",
      "\u001b[1mlatin - RFC Train Performance:\u001b[0m\n",
      "              precision    recall  f1-score   support\n",
      "\n",
      "       latin       0.92      0.94      0.93      4694\n",
      "   not_latin       0.94      0.92      0.93      4694\n",
      "\n",
      "    accuracy                           0.93      9388\n",
      "   macro avg       0.93      0.93      0.93      9388\n",
      "weighted avg       0.93      0.93      0.93      9388\n",
      "\n",
      "\u001b[1mlatin - RFC Test Performance:\u001b[0m\n",
      "              precision    recall  f1-score   support\n",
      "\n",
      "       latin       0.90      0.90      0.90      1187\n",
      "   not_latin       0.90      0.90      0.90      1187\n",
      "\n",
      "    accuracy                           0.90      2374\n",
      "   macro avg       0.90      0.90      0.90      2374\n",
      "weighted avg       0.90      0.90      0.90      2374\n",
      "\n"
     ]
    },
    {
     "data": {
      "image/png": "[encoded data removed]",
      "text/plain": [
       "<Figure size 576x576 with 1 Axes>"
      ]
     },
     "metadata": {
      "needs_background": "light"
     },
     "output_type": "display_data"
    }
   ],
   "source": [
    "genre_summary_report('latin')"
   ]
  },
  {
   "cell_type": "code",
   "execution_count": 233,
   "metadata": {},
   "outputs": [
    {
     "name": "stdout",
     "output_type": "stream",
     "text": [
      "\u001b[1medm - DTC Train Performance:\u001b[0m\n",
      "              precision    recall  f1-score   support\n",
      "\n",
      "         edm       0.94      0.93      0.93      4790\n",
      "     not_edm       0.93      0.94      0.94      4790\n",
      "\n",
      "    accuracy                           0.94      9580\n",
      "   macro avg       0.94      0.94      0.94      9580\n",
      "weighted avg       0.94      0.94      0.94      9580\n",
      "\n",
      "\u001b[1medm - DTC Test Performance:\u001b[0m\n",
      "              precision    recall  f1-score   support\n",
      "\n",
      "         edm       0.92      0.86      0.89      1171\n",
      "     not_edm       0.87      0.93      0.90      1171\n",
      "\n",
      "    accuracy                           0.89      2342\n",
      "   macro avg       0.90      0.89      0.89      2342\n",
      "weighted avg       0.90      0.89      0.89      2342\n",
      "\n",
      "\u001b[1medm - RFC Train Performance:\u001b[0m\n",
      "              precision    recall  f1-score   support\n",
      "\n",
      "         edm       0.98      0.96      0.97      4790\n",
      "     not_edm       0.96      0.98      0.97      4790\n",
      "\n",
      "    accuracy                           0.97      9580\n",
      "   macro avg       0.97      0.97      0.97      9580\n",
      "weighted avg       0.97      0.97      0.97      9580\n",
      "\n",
      "\u001b[1medm - RFC Test Performance:\u001b[0m\n",
      "              precision    recall  f1-score   support\n",
      "\n",
      "         edm       0.96      0.91      0.94      1171\n",
      "     not_edm       0.92      0.96      0.94      1171\n",
      "\n",
      "    accuracy                           0.94      2342\n",
      "   macro avg       0.94      0.94      0.94      2342\n",
      "weighted avg       0.94      0.94      0.94      2342\n",
      "\n"
     ]
    },
    {
     "data": {
      "image/png": "[encoded data removed]",
      "text/plain": [
       "<Figure size 576x576 with 1 Axes>"
      ]
     },
     "metadata": {
      "needs_background": "light"
     },
     "output_type": "display_data"
    }
   ],
   "source": [
    "genre_summary_report('edm')"
   ]
  },
  {
   "cell_type": "code",
   "execution_count": 234,
   "metadata": {},
   "outputs": [
    {
     "name": "stdout",
     "output_type": "stream",
     "text": [
      "\u001b[1mpop - DTC Train Performance:\u001b[0m\n",
      "              precision    recall  f1-score   support\n",
      "\n",
      "     not_pop       0.88      0.86      0.87      4596\n",
      "         pop       0.86      0.89      0.88      4596\n",
      "\n",
      "    accuracy                           0.87      9192\n",
      "   macro avg       0.87      0.87      0.87      9192\n",
      "weighted avg       0.87      0.87      0.87      9192\n",
      "\n",
      "\u001b[1mpop - DTC Test Performance:\u001b[0m\n",
      "              precision    recall  f1-score   support\n",
      "\n",
      "     not_pop       0.77      0.78      0.78      1160\n",
      "         pop       0.78      0.76      0.77      1160\n",
      "\n",
      "    accuracy                           0.77      2320\n",
      "   macro avg       0.77      0.77      0.77      2320\n",
      "weighted avg       0.77      0.77      0.77      2320\n",
      "\n",
      "\u001b[1mpop - RFC Train Performance:\u001b[0m\n",
      "              precision    recall  f1-score   support\n",
      "\n",
      "     not_pop       0.93      0.90      0.92      4596\n",
      "         pop       0.91      0.93      0.92      4596\n",
      "\n",
      "    accuracy                           0.92      9192\n",
      "   macro avg       0.92      0.92      0.92      9192\n",
      "weighted avg       0.92      0.92      0.92      9192\n",
      "\n",
      "\u001b[1mpop - RFC Test Performance:\u001b[0m\n",
      "              precision    recall  f1-score   support\n",
      "\n",
      "     not_pop       0.83      0.86      0.84      1160\n",
      "         pop       0.85      0.82      0.84      1160\n",
      "\n",
      "    accuracy                           0.84      2320\n",
      "   macro avg       0.84      0.84      0.84      2320\n",
      "weighted avg       0.84      0.84      0.84      2320\n",
      "\n"
     ]
    },
    {
     "data": {
      "image/png": "[encoded data removed]",
      "text/plain": [
       "<Figure size 576x576 with 1 Axes>"
      ]
     },
     "metadata": {
      "needs_background": "light"
     },
     "output_type": "display_data"
    }
   ],
   "source": [
    "genre_summary_report('pop')"
   ]
  },
  {
   "cell_type": "markdown",
   "metadata": {},
   "source": [
    "# Evaluation"
   ]
  },
  {
   "cell_type": "code",
   "execution_count": null,
   "metadata": {},
   "outputs": [],
   "source": []
  },
  {
   "cell_type": "markdown",
   "metadata": {},
   "source": [
    "Not surprisingly, popularity is the most important feature for predicting pop. It is interesting though that explicit_True is the second most important feature. This might suggest that pop songs tend to be clean and not explicit. It also seems as though duration is an important feature - suggesting pop songs are either significantly shorter or longer than songs of other genres."
   ]
  },
  {
   "cell_type": "markdown",
   "metadata": {},
   "source": [
    "The above feature importances show a very interesting distinction between hiphop (which was the first genre we tested this binary classification on) and rap. It seems that for both genres, speechiness is a very important feature, however for rap - explicit_True is even more important than speechiness. This seems to be a key distinction between the two genres our model has picked up on."
   ]
  },
  {
   "cell_type": "markdown",
   "metadata": {},
   "source": [
    "The above makes sense intuitvely because hiphop as a genre is very-much-so about the lyrics. I will explore the rap genre next because it is most similar to hiphop."
   ]
  },
  {
   "cell_type": "markdown",
   "metadata": {},
   "source": [
    "Explicit_True and acousticness appear to be the two most important features to predicting latin music. This might suggest acoustic instruments are prevalent in the genre."
   ]
  },
  {
   "cell_type": "markdown",
   "metadata": {},
   "source": [
    "From the feature importances above - it seems as though total_tracks (a measure of how many tracks a particular artist of a song has) is the most important feature. This suggests that edm artists have more songs to their names than do other types of artists. It also makes sense that instrumentalness is the next most important feature because edm songs typically have less vocals than do songs of other genres."
   ]
  },
  {
   "cell_type": "markdown",
   "metadata": {},
   "source": [
    "Energy and mode(key - major vs. minor) are the most important features for predicting r&b. This might suggest that r&b songs are slower than songs of other genres and perhaps more often in minor key (which also affects mood)."
   ]
  },
  {
   "cell_type": "markdown",
   "metadata": {},
   "source": [
    "Danceability seems to be the most important feature for predicting rock songs. This might suggest that rock songs are considerably less danceable than the other genres which would make sense. Instrumentalness is the second most important feature and might suggest rock songs are more instrument-heavy than songs of other genres."
   ]
  }
 ],
 "metadata": {
  "kernelspec": {
   "display_name": "Python 3",
   "language": "python",
   "name": "python3"
  },
  "language_info": {
   "codemirror_mode": {
    "name": "ipython",
    "version": 3
   },
   "file_extension": ".py",
   "mimetype": "text/x-python",
   "name": "python",
   "nbconvert_exporter": "python",
   "pygments_lexer": "ipython3",
   "version": "3.8.5"
  }
 },
 "nbformat": 4,
 "nbformat_minor": 4
}
